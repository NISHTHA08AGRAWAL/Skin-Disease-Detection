{
 "cells": [
  {
   "cell_type": "code",
   "execution_count": 34,
   "id": "decf5b53-d080-4d19-9864-1cbcd082a804",
   "metadata": {
    "tags": []
   },
   "outputs": [],
   "source": [
    "import numpy as np\n",
    "import pandas as pd\n",
    "import matplotlib.pyplot as plt\n",
    "import os\n",
    "from glob import glob\n",
    "import seaborn as sns\n",
    "from PIL import Image\n",
    "import warnings\n",
    "warnings.filterwarnings('ignore')\n",
    "\n",
    "\n",
    "from sklearn.utils import resample\n",
    "from keras.utils.np_utils import to_categorical\n",
    "from sklearn.model_selection import train_test_split\n",
    "\n",
    "import tensorflow as tf\n",
    "from keras.models import Sequential\n",
    "from keras.layers import Dense, Dropout, Flatten, Conv2D, MaxPool2D\n",
    "from keras import backend as K\n",
    "from keras.optimizers import Adam\n",
    "import pickle"
   ]
  },
  {
   "cell_type": "code",
   "execution_count": 35,
   "id": "7931257f-e13c-47b5-b17c-9dd2b2e676b5",
   "metadata": {
    "tags": []
   },
   "outputs": [],
   "source": [
    "# Initializing the path of the working directory\n",
    "base_dir = os.path.join('/Users/pinkeshsethiya/Desktop', '01')\n",
    "\n",
    "# Mapping the image id with their path so that it can be referred easily\n",
    "imageid_path_dict = {os.path.splitext(os.path.basename(x))[0]: x \n",
    "                     for x in glob(os.path.join(base_dir, 'sample', '*.jpg'))}\n",
    "\n",
    "# This dictionary is useful for displaying more human-friendly labels later on\n",
    "lesion_type_dict = {\n",
    "    'nv': 'Melanocytic nevi',\n",
    "    'mel': 'Melanoma',\n",
    "    'bkl': 'Benign keratosis-like lesions ',\n",
    "    'bcc': 'Basal cell carcinoma',\n",
    "    'akiec': 'Actinic keratoses',\n",
    "    'vasc': 'Vascular lesions',\n",
    "    'df': 'Dermatofibroma'\n",
    "}"
   ]
  },
  {
   "cell_type": "code",
   "execution_count": 36,
   "id": "8c00fb0a-832c-4590-8376-2cabf61dd08a",
   "metadata": {
    "tags": []
   },
   "outputs": [],
   "source": [
    "# Reffering to the medadata having the information about all the images we have.\n",
    "skin_df = pd.read_csv(os.path.join(base_dir, 'HAM10000_metadata.csv'))\n",
    "\n",
    "# Creating New Columns path , cell_type and cell_type_idx for better readability\n",
    "\n",
    "# Keeping the path of the respected image\n",
    "skin_df['path'] = skin_df['image_id'].map(imageid_path_dict.get)\n",
    "\n",
    "# Keeping the human understable Name with the respected name\n",
    "skin_df['cell_type'] = skin_df['dx'].map(lesion_type_dict.get)\n",
    "\n",
    "# Keeping the index of the cell_type of the dict\n",
    "skin_df['cell_type_idx'] = pd.Categorical(skin_df['cell_type']).codes"
   ]
  },
  {
   "cell_type": "code",
   "execution_count": 37,
   "id": "0d774659-47d5-4cd2-baab-b6b255a6f577",
   "metadata": {
    "tags": []
   },
   "outputs": [
    {
     "data": {
      "text/plain": [
       "Melanocytic nevi                  6705\n",
       "Melanoma                          1113\n",
       "Benign keratosis-like lesions     1099\n",
       "Basal cell carcinoma               514\n",
       "Actinic keratoses                  327\n",
       "Vascular lesions                   142\n",
       "Dermatofibroma                     115\n",
       "Name: cell_type, dtype: int64"
      ]
     },
     "execution_count": 37,
     "metadata": {},
     "output_type": "execute_result"
    }
   ],
   "source": [
    "skin_df['cell_type'].value_counts()"
   ]
  },
  {
   "cell_type": "code",
   "execution_count": 38,
   "id": "72f4fa7d-a21b-4094-8335-2edad48bb56e",
   "metadata": {
    "tags": []
   },
   "outputs": [
    {
     "data": {
      "text/html": [
       "<div>\n",
       "<style scoped>\n",
       "    .dataframe tbody tr th:only-of-type {\n",
       "        vertical-align: middle;\n",
       "    }\n",
       "\n",
       "    .dataframe tbody tr th {\n",
       "        vertical-align: top;\n",
       "    }\n",
       "\n",
       "    .dataframe thead th {\n",
       "        text-align: right;\n",
       "    }\n",
       "</style>\n",
       "<table border=\"1\" class=\"dataframe\">\n",
       "  <thead>\n",
       "    <tr style=\"text-align: right;\">\n",
       "      <th></th>\n",
       "      <th>lesion_id</th>\n",
       "      <th>image_id</th>\n",
       "      <th>dx</th>\n",
       "      <th>dx_type</th>\n",
       "      <th>age</th>\n",
       "      <th>sex</th>\n",
       "      <th>localization</th>\n",
       "      <th>dataset</th>\n",
       "      <th>path</th>\n",
       "      <th>cell_type</th>\n",
       "      <th>cell_type_idx</th>\n",
       "    </tr>\n",
       "  </thead>\n",
       "  <tbody>\n",
       "    <tr>\n",
       "      <th>0</th>\n",
       "      <td>HAM_0000118</td>\n",
       "      <td>ISIC_0027419</td>\n",
       "      <td>bkl</td>\n",
       "      <td>histo</td>\n",
       "      <td>80.0</td>\n",
       "      <td>male</td>\n",
       "      <td>scalp</td>\n",
       "      <td>vidir_modern</td>\n",
       "      <td>/Users/pinkeshsethiya/Desktop/01/sample/ISIC_0...</td>\n",
       "      <td>Benign keratosis-like lesions</td>\n",
       "      <td>2</td>\n",
       "    </tr>\n",
       "    <tr>\n",
       "      <th>1</th>\n",
       "      <td>HAM_0000118</td>\n",
       "      <td>ISIC_0025030</td>\n",
       "      <td>bkl</td>\n",
       "      <td>histo</td>\n",
       "      <td>80.0</td>\n",
       "      <td>male</td>\n",
       "      <td>scalp</td>\n",
       "      <td>vidir_modern</td>\n",
       "      <td>/Users/pinkeshsethiya/Desktop/01/sample/ISIC_0...</td>\n",
       "      <td>Benign keratosis-like lesions</td>\n",
       "      <td>2</td>\n",
       "    </tr>\n",
       "    <tr>\n",
       "      <th>2</th>\n",
       "      <td>HAM_0002730</td>\n",
       "      <td>ISIC_0026769</td>\n",
       "      <td>bkl</td>\n",
       "      <td>histo</td>\n",
       "      <td>80.0</td>\n",
       "      <td>male</td>\n",
       "      <td>scalp</td>\n",
       "      <td>vidir_modern</td>\n",
       "      <td>/Users/pinkeshsethiya/Desktop/01/sample/ISIC_0...</td>\n",
       "      <td>Benign keratosis-like lesions</td>\n",
       "      <td>2</td>\n",
       "    </tr>\n",
       "    <tr>\n",
       "      <th>3</th>\n",
       "      <td>HAM_0002730</td>\n",
       "      <td>ISIC_0025661</td>\n",
       "      <td>bkl</td>\n",
       "      <td>histo</td>\n",
       "      <td>80.0</td>\n",
       "      <td>male</td>\n",
       "      <td>scalp</td>\n",
       "      <td>vidir_modern</td>\n",
       "      <td>/Users/pinkeshsethiya/Desktop/01/sample/ISIC_0...</td>\n",
       "      <td>Benign keratosis-like lesions</td>\n",
       "      <td>2</td>\n",
       "    </tr>\n",
       "    <tr>\n",
       "      <th>4</th>\n",
       "      <td>HAM_0001466</td>\n",
       "      <td>ISIC_0031633</td>\n",
       "      <td>bkl</td>\n",
       "      <td>histo</td>\n",
       "      <td>75.0</td>\n",
       "      <td>male</td>\n",
       "      <td>ear</td>\n",
       "      <td>vidir_modern</td>\n",
       "      <td>/Users/pinkeshsethiya/Desktop/01/sample/ISIC_0...</td>\n",
       "      <td>Benign keratosis-like lesions</td>\n",
       "      <td>2</td>\n",
       "    </tr>\n",
       "  </tbody>\n",
       "</table>\n",
       "</div>"
      ],
      "text/plain": [
       "     lesion_id      image_id   dx dx_type   age   sex localization  \\\n",
       "0  HAM_0000118  ISIC_0027419  bkl   histo  80.0  male        scalp   \n",
       "1  HAM_0000118  ISIC_0025030  bkl   histo  80.0  male        scalp   \n",
       "2  HAM_0002730  ISIC_0026769  bkl   histo  80.0  male        scalp   \n",
       "3  HAM_0002730  ISIC_0025661  bkl   histo  80.0  male        scalp   \n",
       "4  HAM_0001466  ISIC_0031633  bkl   histo  75.0  male          ear   \n",
       "\n",
       "        dataset                                               path  \\\n",
       "0  vidir_modern  /Users/pinkeshsethiya/Desktop/01/sample/ISIC_0...   \n",
       "1  vidir_modern  /Users/pinkeshsethiya/Desktop/01/sample/ISIC_0...   \n",
       "2  vidir_modern  /Users/pinkeshsethiya/Desktop/01/sample/ISIC_0...   \n",
       "3  vidir_modern  /Users/pinkeshsethiya/Desktop/01/sample/ISIC_0...   \n",
       "4  vidir_modern  /Users/pinkeshsethiya/Desktop/01/sample/ISIC_0...   \n",
       "\n",
       "                        cell_type  cell_type_idx  \n",
       "0  Benign keratosis-like lesions               2  \n",
       "1  Benign keratosis-like lesions               2  \n",
       "2  Benign keratosis-like lesions               2  \n",
       "3  Benign keratosis-like lesions               2  \n",
       "4  Benign keratosis-like lesions               2  "
      ]
     },
     "execution_count": 38,
     "metadata": {},
     "output_type": "execute_result"
    }
   ],
   "source": [
    "skin_df.head()"
   ]
  },
  {
   "cell_type": "code",
   "execution_count": 39,
   "id": "db82ac3e-3c24-48f8-8dec-cba6278d8979",
   "metadata": {
    "tags": []
   },
   "outputs": [
    {
     "data": {
      "text/plain": [
       "lesion_id         0\n",
       "image_id          0\n",
       "dx                0\n",
       "dx_type           0\n",
       "age              57\n",
       "sex               0\n",
       "localization      0\n",
       "dataset           0\n",
       "path              0\n",
       "cell_type         0\n",
       "cell_type_idx     0\n",
       "dtype: int64"
      ]
     },
     "execution_count": 39,
     "metadata": {},
     "output_type": "execute_result"
    }
   ],
   "source": [
    "skin_df.isnull().sum()"
   ]
  },
  {
   "cell_type": "code",
   "execution_count": 40,
   "id": "62ff470e-93d5-4bf6-a677-52c6dc176312",
   "metadata": {
    "tags": []
   },
   "outputs": [],
   "source": [
    "skin_df['age'].fillna((skin_df['age'].mean()) , inplace = True)"
   ]
  },
  {
   "cell_type": "code",
   "execution_count": 41,
   "id": "c5d7d391-9f1f-4eaf-abd1-2de315917bc9",
   "metadata": {
    "tags": []
   },
   "outputs": [
    {
     "data": {
      "text/plain": [
       "lesion_id        0\n",
       "image_id         0\n",
       "dx               0\n",
       "dx_type          0\n",
       "age              0\n",
       "sex              0\n",
       "localization     0\n",
       "dataset          0\n",
       "path             0\n",
       "cell_type        0\n",
       "cell_type_idx    0\n",
       "dtype: int64"
      ]
     },
     "execution_count": 41,
     "metadata": {},
     "output_type": "execute_result"
    }
   ],
   "source": [
    "skin_df.isnull().sum()"
   ]
  },
  {
   "cell_type": "code",
   "execution_count": 42,
   "id": "05b22876-dc98-4616-bee7-c99db17ae254",
   "metadata": {
    "tags": []
   },
   "outputs": [],
   "source": [
    "cell_type_idx = 'cell_type_idx'\n",
    "record_0 = skin_df[skin_df[cell_type_idx] == 0]\n",
    "record_1 = skin_df[skin_df[cell_type_idx] == 1]\n",
    "record_2 = skin_df[skin_df[cell_type_idx] == 2]\n",
    "record_3 = skin_df[skin_df[cell_type_idx] == 3]\n",
    "record_4 = skin_df[skin_df[cell_type_idx] == 4]\n",
    "record_5 = skin_df[skin_df[cell_type_idx] == 5]\n",
    "record_6 = skin_df[skin_df[cell_type_idx] == 6]"
   ]
  },
  {
   "cell_type": "code",
   "execution_count": 43,
   "id": "6203fb86-8f88-4cbe-85f0-897a3b91f130",
   "metadata": {
    "tags": []
   },
   "outputs": [],
   "source": [
    "n = 500;\n",
    "record_bal_0 = resample(record_0 , replace = True , n_samples = n , random_state = 42)\n",
    "record_bal_1 = resample(record_1 , replace = True , n_samples = n , random_state = 42)\n",
    "record_bal_2 = resample(record_2 , replace = True , n_samples = n , random_state = 42)\n",
    "record_bal_3 = resample(record_3 , replace = True , n_samples = n , random_state = 42)\n",
    "record_bal_4 = resample(record_4 , replace = True , n_samples = n , random_state = 42)\n",
    "record_bal_5 = resample(record_5 , replace = True , n_samples = n , random_state = 42)\n",
    "record_bal_6 = resample(record_6 , replace = True , n_samples = n , random_state = 42)"
   ]
  },
  {
   "cell_type": "code",
   "execution_count": 44,
   "id": "bec02f9a-99dc-4c2e-9339-d4e77016ae5a",
   "metadata": {
    "tags": []
   },
   "outputs": [],
   "source": [
    "balance_record = pd.concat([record_bal_0 , record_bal_1 , record_bal_2 , record_bal_3 , record_bal_4 , record_bal_5 , record_bal_6])"
   ]
  },
  {
   "cell_type": "code",
   "execution_count": 45,
   "id": "8aead4e0-d914-484e-845f-8aa7bd8642ab",
   "metadata": {
    "tags": []
   },
   "outputs": [],
   "source": [
    "balance_record['image'] = balance_record['path'].map(lambda x: np.asarray(Image.open(x).resize((32,32))))"
   ]
  },
  {
   "cell_type": "code",
   "execution_count": 46,
   "id": "4ca4c3cd-5fee-4f06-ac27-023667570137",
   "metadata": {
    "tags": []
   },
   "outputs": [],
   "source": [
    "X = np.asarray(balance_record['image'].tolist())"
   ]
  },
  {
   "cell_type": "code",
   "execution_count": 47,
   "id": "f33b854a-8022-45bc-ab90-257c4a986afc",
   "metadata": {
    "tags": []
   },
   "outputs": [],
   "source": [
    "X = X / 255;"
   ]
  },
  {
   "cell_type": "code",
   "execution_count": 48,
   "id": "b3650798-60b9-4282-acb0-550949d1bf65",
   "metadata": {
    "tags": []
   },
   "outputs": [],
   "source": [
    "Y = balance_record['cell_type_idx']"
   ]
  },
  {
   "cell_type": "code",
   "execution_count": 49,
   "id": "0099208a-a5d1-45eb-8b0b-e4cecc9e2970",
   "metadata": {
    "tags": []
   },
   "outputs": [],
   "source": [
    "Y_cat = to_categorical(Y)"
   ]
  },
  {
   "cell_type": "code",
   "execution_count": 50,
   "id": "b5a00a92-3b63-469d-8ed2-0df340246d7b",
   "metadata": {
    "tags": []
   },
   "outputs": [],
   "source": [
    "x_train, x_test, y_train, y_test = train_test_split(X, Y_cat, test_size=0.20,random_state=42)"
   ]
  },
  {
   "cell_type": "code",
   "execution_count": 51,
   "id": "c52b65e9-3c84-4da8-9db8-6806c6cf2a5d",
   "metadata": {
    "tags": []
   },
   "outputs": [
    {
     "name": "stdout",
     "output_type": "stream",
     "text": [
      "Model: \"sequential_1\"\n",
      "_________________________________________________________________\n",
      " Layer (type)                Output Shape              Param #   \n",
      "=================================================================\n",
      " conv2d_3 (Conv2D)           (None, 32, 32, 256)       7168      \n",
      "                                                                 \n",
      " max_pooling2d_3 (MaxPooling  (None, 16, 16, 256)      0         \n",
      " 2D)                                                             \n",
      "                                                                 \n",
      " dropout_3 (Dropout)         (None, 16, 16, 256)       0         \n",
      "                                                                 \n",
      " conv2d_4 (Conv2D)           (None, 14, 14, 128)       295040    \n",
      "                                                                 \n",
      " max_pooling2d_4 (MaxPooling  (None, 7, 7, 128)        0         \n",
      " 2D)                                                             \n",
      "                                                                 \n",
      " dropout_4 (Dropout)         (None, 7, 7, 128)         0         \n",
      "                                                                 \n",
      " conv2d_5 (Conv2D)           (None, 5, 5, 64)          73792     \n",
      "                                                                 \n",
      " max_pooling2d_5 (MaxPooling  (None, 2, 2, 64)         0         \n",
      " 2D)                                                             \n",
      "                                                                 \n",
      " dropout_5 (Dropout)         (None, 2, 2, 64)          0         \n",
      "                                                                 \n",
      " flatten_1 (Flatten)         (None, 256)               0         \n",
      "                                                                 \n",
      " dense_2 (Dense)             (None, 32)                8224      \n",
      "                                                                 \n",
      " dense_3 (Dense)             (None, 7)                 231       \n",
      "                                                                 \n",
      "=================================================================\n",
      "Total params: 384,455\n",
      "Trainable params: 384,455\n",
      "Non-trainable params: 0\n",
      "_________________________________________________________________\n"
     ]
    }
   ],
   "source": [
    "input_shape = (32 , 32 , 3)\n",
    "\n",
    "model = Sequential()\n",
    "model.add(Conv2D(256, kernel_size=(3, 3),activation='relu',padding = 'Same',input_shape=input_shape))\n",
    "model.add(MaxPool2D(pool_size = (2, 2)))\n",
    "model.add(Dropout(0.3))\n",
    "\n",
    "model.add(Conv2D(128, kernel_size=(3, 3),activation='relu'))\n",
    "model.add(MaxPool2D(pool_size = (2, 2)))\n",
    "model.add(Dropout(0.3))\n",
    "\n",
    "model.add(Conv2D(64, kernel_size=(3, 3),activation='relu'))\n",
    "model.add(MaxPool2D(pool_size = (2, 2)))\n",
    "model.add(Dropout(0.3))\n",
    "model.add(Flatten())\n",
    "\n",
    "model.add(Dense(32, activation='relu'))\n",
    "model.add(Dense(7, activation='softmax'))\n",
    "model.summary()"
   ]
  },
  {
   "cell_type": "code",
   "execution_count": 52,
   "id": "afc4f932-cc27-4eb5-a63b-e3e3dc899e41",
   "metadata": {
    "tags": []
   },
   "outputs": [],
   "source": [
    "model.compile(optimizer='adam' , loss='categorical_crossentropy' , metrics=['accuracy'])"
   ]
  },
  {
   "cell_type": "code",
   "execution_count": 53,
   "id": "b2e0a452-cbe8-41b1-b86f-c1211dbdcab8",
   "metadata": {
    "tags": []
   },
   "outputs": [
    {
     "name": "stdout",
     "output_type": "stream",
     "text": [
      "Epoch 1/100\n",
      "175/175 [==============================] - 12s 65ms/step - loss: 1.9481 - accuracy: 0.1518 - val_loss: 1.9155 - val_accuracy: 0.1986\n",
      "Epoch 2/100\n",
      "175/175 [==============================] - 11s 65ms/step - loss: 1.7990 - accuracy: 0.2350 - val_loss: 1.7488 - val_accuracy: 0.2329\n",
      "Epoch 3/100\n",
      "175/175 [==============================] - 11s 65ms/step - loss: 1.7425 - accuracy: 0.2521 - val_loss: 1.7522 - val_accuracy: 0.2614\n",
      "Epoch 4/100\n",
      "175/175 [==============================] - 11s 65ms/step - loss: 1.6819 - accuracy: 0.2968 - val_loss: 1.6509 - val_accuracy: 0.3257\n",
      "Epoch 5/100\n",
      "175/175 [==============================] - 11s 66ms/step - loss: 1.5755 - accuracy: 0.3482 - val_loss: 1.4704 - val_accuracy: 0.3843\n",
      "Epoch 6/100\n",
      "175/175 [==============================] - 11s 66ms/step - loss: 1.4527 - accuracy: 0.4104 - val_loss: 1.4020 - val_accuracy: 0.4300\n",
      "Epoch 7/100\n",
      "175/175 [==============================] - 11s 65ms/step - loss: 1.3659 - accuracy: 0.4586 - val_loss: 1.4119 - val_accuracy: 0.4100\n",
      "Epoch 8/100\n",
      "175/175 [==============================] - 12s 66ms/step - loss: 1.3313 - accuracy: 0.4643 - val_loss: 1.2915 - val_accuracy: 0.4814\n",
      "Epoch 9/100\n",
      "175/175 [==============================] - 12s 66ms/step - loss: 1.3002 - accuracy: 0.4946 - val_loss: 1.2793 - val_accuracy: 0.4729\n",
      "Epoch 10/100\n",
      "175/175 [==============================] - 12s 66ms/step - loss: 1.2622 - accuracy: 0.5071 - val_loss: 1.2741 - val_accuracy: 0.4929\n",
      "Epoch 11/100\n",
      "175/175 [==============================] - 12s 66ms/step - loss: 1.2029 - accuracy: 0.5189 - val_loss: 1.1673 - val_accuracy: 0.5157\n",
      "Epoch 12/100\n",
      "175/175 [==============================] - 12s 66ms/step - loss: 1.2067 - accuracy: 0.5143 - val_loss: 1.1733 - val_accuracy: 0.5486\n",
      "Epoch 13/100\n",
      "175/175 [==============================] - 12s 66ms/step - loss: 1.1606 - accuracy: 0.5311 - val_loss: 1.1562 - val_accuracy: 0.5643\n",
      "Epoch 14/100\n",
      "175/175 [==============================] - 12s 67ms/step - loss: 1.1510 - accuracy: 0.5450 - val_loss: 1.1547 - val_accuracy: 0.5600\n",
      "Epoch 15/100\n",
      "175/175 [==============================] - 12s 67ms/step - loss: 1.1385 - accuracy: 0.5454 - val_loss: 1.1347 - val_accuracy: 0.5371\n",
      "Epoch 16/100\n",
      "175/175 [==============================] - 12s 67ms/step - loss: 1.0992 - accuracy: 0.5671 - val_loss: 1.1522 - val_accuracy: 0.5571\n",
      "Epoch 17/100\n",
      "175/175 [==============================] - 12s 67ms/step - loss: 1.0708 - accuracy: 0.5732 - val_loss: 1.0696 - val_accuracy: 0.5871\n",
      "Epoch 18/100\n",
      "175/175 [==============================] - 12s 70ms/step - loss: 1.0596 - accuracy: 0.5911 - val_loss: 1.0711 - val_accuracy: 0.5914\n",
      "Epoch 19/100\n",
      "175/175 [==============================] - 12s 70ms/step - loss: 1.0686 - accuracy: 0.5793 - val_loss: 1.0948 - val_accuracy: 0.5771\n",
      "Epoch 20/100\n",
      "175/175 [==============================] - 12s 70ms/step - loss: 1.0360 - accuracy: 0.5886 - val_loss: 1.0276 - val_accuracy: 0.6214\n",
      "Epoch 21/100\n",
      "175/175 [==============================] - 12s 70ms/step - loss: 1.0300 - accuracy: 0.6057 - val_loss: 1.0149 - val_accuracy: 0.6114\n",
      "Epoch 22/100\n",
      "175/175 [==============================] - 12s 70ms/step - loss: 1.0046 - accuracy: 0.6157 - val_loss: 1.0518 - val_accuracy: 0.5929\n",
      "Epoch 23/100\n",
      "175/175 [==============================] - 12s 70ms/step - loss: 0.9651 - accuracy: 0.6321 - val_loss: 0.9938 - val_accuracy: 0.6029\n",
      "Epoch 24/100\n",
      "175/175 [==============================] - 13s 72ms/step - loss: 0.9666 - accuracy: 0.6271 - val_loss: 1.0009 - val_accuracy: 0.6086\n",
      "Epoch 25/100\n",
      "175/175 [==============================] - 13s 73ms/step - loss: 0.9262 - accuracy: 0.6479 - val_loss: 0.9624 - val_accuracy: 0.6343\n",
      "Epoch 26/100\n",
      "175/175 [==============================] - 12s 68ms/step - loss: 0.9473 - accuracy: 0.6361 - val_loss: 0.9592 - val_accuracy: 0.6257\n",
      "Epoch 27/100\n",
      "175/175 [==============================] - 12s 66ms/step - loss: 0.9375 - accuracy: 0.6382 - val_loss: 0.9605 - val_accuracy: 0.6257\n",
      "Epoch 28/100\n",
      "175/175 [==============================] - 13s 73ms/step - loss: 0.9135 - accuracy: 0.6507 - val_loss: 0.9074 - val_accuracy: 0.6600\n",
      "Epoch 29/100\n",
      "175/175 [==============================] - 12s 69ms/step - loss: 0.8890 - accuracy: 0.6600 - val_loss: 0.8745 - val_accuracy: 0.6786\n",
      "Epoch 30/100\n",
      "175/175 [==============================] - 12s 68ms/step - loss: 0.8589 - accuracy: 0.6736 - val_loss: 0.9113 - val_accuracy: 0.6500\n",
      "Epoch 31/100\n",
      "175/175 [==============================] - 12s 70ms/step - loss: 0.8508 - accuracy: 0.6736 - val_loss: 0.9414 - val_accuracy: 0.6486\n",
      "Epoch 32/100\n",
      "175/175 [==============================] - 13s 72ms/step - loss: 0.8399 - accuracy: 0.6654 - val_loss: 0.8752 - val_accuracy: 0.6643\n",
      "Epoch 33/100\n",
      "175/175 [==============================] - 12s 67ms/step - loss: 0.8250 - accuracy: 0.6821 - val_loss: 0.8443 - val_accuracy: 0.6814\n",
      "Epoch 34/100\n",
      "175/175 [==============================] - 12s 71ms/step - loss: 0.8334 - accuracy: 0.6846 - val_loss: 0.9121 - val_accuracy: 0.6457\n",
      "Epoch 35/100\n",
      "175/175 [==============================] - 12s 66ms/step - loss: 0.8300 - accuracy: 0.6814 - val_loss: 0.8191 - val_accuracy: 0.6986\n",
      "Epoch 36/100\n",
      "175/175 [==============================] - 12s 67ms/step - loss: 0.8111 - accuracy: 0.6914 - val_loss: 0.8214 - val_accuracy: 0.7043\n",
      "Epoch 37/100\n",
      "175/175 [==============================] - 12s 70ms/step - loss: 0.7910 - accuracy: 0.6993 - val_loss: 0.7712 - val_accuracy: 0.7143\n",
      "Epoch 38/100\n",
      "175/175 [==============================] - 12s 67ms/step - loss: 0.8050 - accuracy: 0.6939 - val_loss: 0.7937 - val_accuracy: 0.7257\n",
      "Epoch 39/100\n",
      "175/175 [==============================] - 12s 67ms/step - loss: 0.7886 - accuracy: 0.7043 - val_loss: 0.8263 - val_accuracy: 0.6757\n",
      "Epoch 40/100\n",
      "175/175 [==============================] - 12s 67ms/step - loss: 0.7558 - accuracy: 0.7132 - val_loss: 0.8380 - val_accuracy: 0.6857\n",
      "Epoch 41/100\n",
      "175/175 [==============================] - 12s 67ms/step - loss: 0.7529 - accuracy: 0.7179 - val_loss: 0.7742 - val_accuracy: 0.7029\n",
      "Epoch 42/100\n",
      "175/175 [==============================] - 12s 68ms/step - loss: 0.7349 - accuracy: 0.7179 - val_loss: 0.8373 - val_accuracy: 0.7071\n",
      "Epoch 43/100\n",
      "175/175 [==============================] - 12s 66ms/step - loss: 0.7568 - accuracy: 0.7261 - val_loss: 0.7961 - val_accuracy: 0.7014\n",
      "Epoch 44/100\n",
      "175/175 [==============================] - 12s 67ms/step - loss: 0.7067 - accuracy: 0.7314 - val_loss: 0.7757 - val_accuracy: 0.7343\n",
      "Epoch 45/100\n",
      "175/175 [==============================] - 12s 67ms/step - loss: 0.7212 - accuracy: 0.7236 - val_loss: 0.8526 - val_accuracy: 0.6900\n",
      "Epoch 46/100\n",
      "175/175 [==============================] - 12s 69ms/step - loss: 0.7146 - accuracy: 0.7332 - val_loss: 0.8229 - val_accuracy: 0.7143\n",
      "Epoch 47/100\n",
      "175/175 [==============================] - 14s 78ms/step - loss: 0.7062 - accuracy: 0.7286 - val_loss: 0.7867 - val_accuracy: 0.7286\n",
      "Epoch 48/100\n",
      "175/175 [==============================] - 13s 73ms/step - loss: 0.6867 - accuracy: 0.7421 - val_loss: 0.7683 - val_accuracy: 0.7157\n",
      "Epoch 49/100\n",
      "175/175 [==============================] - 13s 72ms/step - loss: 0.6884 - accuracy: 0.7443 - val_loss: 0.8388 - val_accuracy: 0.6757\n",
      "Epoch 50/100\n",
      "175/175 [==============================] - 13s 72ms/step - loss: 0.6795 - accuracy: 0.7425 - val_loss: 0.7132 - val_accuracy: 0.7529\n",
      "Epoch 51/100\n",
      "175/175 [==============================] - 13s 71ms/step - loss: 0.6585 - accuracy: 0.7482 - val_loss: 0.7741 - val_accuracy: 0.7314\n",
      "Epoch 52/100\n",
      "175/175 [==============================] - 13s 72ms/step - loss: 0.6816 - accuracy: 0.7457 - val_loss: 0.7081 - val_accuracy: 0.7500\n",
      "Epoch 53/100\n",
      "175/175 [==============================] - 13s 72ms/step - loss: 0.6435 - accuracy: 0.7543 - val_loss: 0.7546 - val_accuracy: 0.7329\n",
      "Epoch 54/100\n",
      "175/175 [==============================] - 13s 72ms/step - loss: 0.6699 - accuracy: 0.7436 - val_loss: 0.7262 - val_accuracy: 0.7514\n",
      "Epoch 55/100\n",
      "175/175 [==============================] - 13s 72ms/step - loss: 0.6449 - accuracy: 0.7564 - val_loss: 0.7345 - val_accuracy: 0.7543\n",
      "Epoch 56/100\n",
      "175/175 [==============================] - 13s 73ms/step - loss: 0.6409 - accuracy: 0.7568 - val_loss: 0.7628 - val_accuracy: 0.7386\n",
      "Epoch 57/100\n",
      "175/175 [==============================] - 13s 72ms/step - loss: 0.6166 - accuracy: 0.7639 - val_loss: 0.7145 - val_accuracy: 0.7571\n",
      "Epoch 58/100\n",
      "175/175 [==============================] - 13s 72ms/step - loss: 0.6141 - accuracy: 0.7721 - val_loss: 0.7419 - val_accuracy: 0.7500\n",
      "Epoch 59/100\n",
      "175/175 [==============================] - 13s 72ms/step - loss: 0.6293 - accuracy: 0.7646 - val_loss: 0.7465 - val_accuracy: 0.7429\n",
      "Epoch 60/100\n",
      "175/175 [==============================] - 13s 72ms/step - loss: 0.5922 - accuracy: 0.7779 - val_loss: 0.7390 - val_accuracy: 0.7414\n",
      "Epoch 61/100\n",
      "175/175 [==============================] - 13s 73ms/step - loss: 0.6146 - accuracy: 0.7657 - val_loss: 0.7093 - val_accuracy: 0.7571\n",
      "Epoch 62/100\n",
      "175/175 [==============================] - 13s 72ms/step - loss: 0.5896 - accuracy: 0.7746 - val_loss: 0.6894 - val_accuracy: 0.7643\n",
      "Epoch 63/100\n",
      "175/175 [==============================] - 13s 74ms/step - loss: 0.5743 - accuracy: 0.7814 - val_loss: 0.7371 - val_accuracy: 0.7429\n",
      "Epoch 64/100\n",
      "175/175 [==============================] - 13s 73ms/step - loss: 0.5713 - accuracy: 0.7854 - val_loss: 0.7550 - val_accuracy: 0.7300\n",
      "Epoch 65/100\n",
      "175/175 [==============================] - 13s 73ms/step - loss: 0.5566 - accuracy: 0.7879 - val_loss: 0.6986 - val_accuracy: 0.7686\n",
      "Epoch 66/100\n",
      "175/175 [==============================] - 13s 73ms/step - loss: 0.5681 - accuracy: 0.7854 - val_loss: 0.7029 - val_accuracy: 0.7643\n",
      "Epoch 67/100\n",
      "175/175 [==============================] - 13s 73ms/step - loss: 0.5740 - accuracy: 0.7857 - val_loss: 0.6820 - val_accuracy: 0.7629\n",
      "Epoch 68/100\n",
      "175/175 [==============================] - 13s 75ms/step - loss: 0.5269 - accuracy: 0.8043 - val_loss: 0.7849 - val_accuracy: 0.7500\n",
      "Epoch 69/100\n",
      "175/175 [==============================] - 13s 75ms/step - loss: 0.5595 - accuracy: 0.7986 - val_loss: 0.6642 - val_accuracy: 0.7629\n",
      "Epoch 70/100\n",
      "175/175 [==============================] - 12s 67ms/step - loss: 0.5487 - accuracy: 0.7871 - val_loss: 0.7037 - val_accuracy: 0.7714\n",
      "Epoch 71/100\n",
      "175/175 [==============================] - 12s 67ms/step - loss: 0.5296 - accuracy: 0.8025 - val_loss: 0.7211 - val_accuracy: 0.7443\n",
      "Epoch 72/100\n",
      "175/175 [==============================] - 12s 67ms/step - loss: 0.5538 - accuracy: 0.7921 - val_loss: 0.7584 - val_accuracy: 0.7357\n",
      "Epoch 73/100\n",
      "175/175 [==============================] - 12s 67ms/step - loss: 0.5512 - accuracy: 0.7964 - val_loss: 0.6782 - val_accuracy: 0.7657\n",
      "Epoch 74/100\n",
      "175/175 [==============================] - 12s 67ms/step - loss: 0.5501 - accuracy: 0.7918 - val_loss: 0.7493 - val_accuracy: 0.7457\n",
      "Epoch 75/100\n",
      "175/175 [==============================] - 12s 70ms/step - loss: 0.5330 - accuracy: 0.8014 - val_loss: 0.6606 - val_accuracy: 0.7700\n",
      "Epoch 76/100\n",
      "175/175 [==============================] - 12s 67ms/step - loss: 0.5432 - accuracy: 0.7986 - val_loss: 0.7011 - val_accuracy: 0.7586\n",
      "Epoch 77/100\n",
      "175/175 [==============================] - 12s 68ms/step - loss: 0.4998 - accuracy: 0.8193 - val_loss: 0.6757 - val_accuracy: 0.7700\n",
      "Epoch 78/100\n",
      "175/175 [==============================] - 12s 68ms/step - loss: 0.4984 - accuracy: 0.8186 - val_loss: 0.7143 - val_accuracy: 0.7586\n",
      "Epoch 79/100\n",
      "175/175 [==============================] - 12s 67ms/step - loss: 0.5172 - accuracy: 0.8129 - val_loss: 0.7994 - val_accuracy: 0.7286\n",
      "Epoch 80/100\n",
      "175/175 [==============================] - 12s 68ms/step - loss: 0.4967 - accuracy: 0.8071 - val_loss: 0.7398 - val_accuracy: 0.7686\n",
      "Epoch 81/100\n",
      "175/175 [==============================] - 12s 69ms/step - loss: 0.5139 - accuracy: 0.8079 - val_loss: 0.6704 - val_accuracy: 0.7829\n",
      "Epoch 82/100\n",
      "175/175 [==============================] - 12s 67ms/step - loss: 0.4931 - accuracy: 0.8139 - val_loss: 0.7168 - val_accuracy: 0.7586\n",
      "Epoch 83/100\n",
      "175/175 [==============================] - 12s 68ms/step - loss: 0.4965 - accuracy: 0.8171 - val_loss: 0.6696 - val_accuracy: 0.7800\n",
      "Epoch 84/100\n",
      "175/175 [==============================] - 12s 69ms/step - loss: 0.4717 - accuracy: 0.8232 - val_loss: 0.6916 - val_accuracy: 0.7643\n",
      "Epoch 85/100\n",
      "175/175 [==============================] - 12s 69ms/step - loss: 0.5114 - accuracy: 0.8125 - val_loss: 0.6655 - val_accuracy: 0.7843\n",
      "Epoch 86/100\n",
      "175/175 [==============================] - 12s 68ms/step - loss: 0.4770 - accuracy: 0.8268 - val_loss: 0.6560 - val_accuracy: 0.7843\n",
      "Epoch 87/100\n",
      "175/175 [==============================] - 12s 68ms/step - loss: 0.4836 - accuracy: 0.8193 - val_loss: 0.6660 - val_accuracy: 0.7814\n",
      "Epoch 88/100\n",
      "175/175 [==============================] - 12s 68ms/step - loss: 0.5170 - accuracy: 0.8132 - val_loss: 0.6999 - val_accuracy: 0.7557\n",
      "Epoch 89/100\n",
      "175/175 [==============================] - 12s 67ms/step - loss: 0.4855 - accuracy: 0.8193 - val_loss: 0.6687 - val_accuracy: 0.7771\n",
      "Epoch 90/100\n",
      "175/175 [==============================] - 12s 67ms/step - loss: 0.4496 - accuracy: 0.8357 - val_loss: 0.6576 - val_accuracy: 0.7743\n",
      "Epoch 91/100\n",
      "175/175 [==============================] - 12s 71ms/step - loss: 0.4665 - accuracy: 0.8300 - val_loss: 0.6562 - val_accuracy: 0.7729\n",
      "Epoch 92/100\n",
      "175/175 [==============================] - 14s 78ms/step - loss: 0.4530 - accuracy: 0.8325 - val_loss: 0.6774 - val_accuracy: 0.7900\n",
      "Epoch 93/100\n",
      "175/175 [==============================] - 13s 77ms/step - loss: 0.4655 - accuracy: 0.8329 - val_loss: 0.6629 - val_accuracy: 0.7843\n",
      "Epoch 94/100\n",
      "175/175 [==============================] - 13s 75ms/step - loss: 0.4452 - accuracy: 0.8400 - val_loss: 0.6641 - val_accuracy: 0.7929\n",
      "Epoch 95/100\n",
      "175/175 [==============================] - 13s 77ms/step - loss: 0.4453 - accuracy: 0.8336 - val_loss: 0.7034 - val_accuracy: 0.7643\n",
      "Epoch 96/100\n",
      "175/175 [==============================] - 15s 86ms/step - loss: 0.4735 - accuracy: 0.8264 - val_loss: 0.7187 - val_accuracy: 0.7614\n",
      "Epoch 97/100\n",
      "175/175 [==============================] - 14s 82ms/step - loss: 0.4754 - accuracy: 0.8250 - val_loss: 0.6908 - val_accuracy: 0.7743\n",
      "Epoch 98/100\n",
      "175/175 [==============================] - 13s 75ms/step - loss: 0.4361 - accuracy: 0.8364 - val_loss: 0.7033 - val_accuracy: 0.7814\n",
      "Epoch 99/100\n",
      "175/175 [==============================] - 13s 74ms/step - loss: 0.4443 - accuracy: 0.8361 - val_loss: 0.7131 - val_accuracy: 0.7771\n",
      "Epoch 100/100\n",
      "175/175 [==============================] - 13s 75ms/step - loss: 0.4170 - accuracy: 0.8400 - val_loss: 0.6980 - val_accuracy: 0.7829\n"
     ]
    }
   ],
   "source": [
    "epochs = 100\n",
    "batch_size = 16\n",
    "history = model.fit(x_train , y_train , epochs = epochs , batch_size = batch_size , validation_data=(x_test , y_test) , verbose = 1)"
   ]
  },
  {
   "cell_type": "code",
   "execution_count": 55,
   "id": "55da9986-b067-45d8-b776-c10c4a05b7d5",
   "metadata": {
    "tags": []
   },
   "outputs": [
    {
     "name": "stdout",
     "output_type": "stream",
     "text": [
      "22/22 [==============================] - 1s 38ms/step - loss: 0.6980 - accuracy: 0.7829\n",
      "Test: accuracy = 0.782857  ;  loss = 0.697990\n"
     ]
    }
   ],
   "source": [
    "loss, accuracy = model.evaluate(x_test, y_test, verbose=1)\n",
    "print(\"Test: accuracy = %f  ;  loss = %f\" % (accuracy, loss))\n",
    "model.save(\"balance_model.h5\")\n"
   ]
  },
  {
   "cell_type": "code",
   "execution_count": 56,
   "id": "e0cbcc77-18f6-46f5-ae45-6d35da5740a9",
   "metadata": {
    "tags": []
   },
   "outputs": [],
   "source": [
    "#1. Function to plot model's validation loss and validation accuracy\n",
    "def plot_model_history(model_history):\n",
    "    fig, axs = plt.subplots(1,2,figsize=(15,5))\n",
    "    # summarize history for accuracy\n",
    "    axs[0].plot(range(1,len(model_history.history['accuracy'])+1),model_history.history['accuracy'])\n",
    "    axs[0].plot(range(1,len(model_history.history['val_accuracy'])+1),model_history.history['val_accuracy'])\n",
    "    axs[0].set_title('Model Accuracy')\n",
    "    axs[0].set_ylabel('Accuracy')\n",
    "    axs[0].set_xlabel('Epoch')\n",
    "    axs[0].set_xticks(np.arange(1,len(model_history.history['accuracy'])+1, len(model_history.history['accuracy'])/10))\n",
    "    axs[0].legend(['train', 'val'], loc='best')\n",
    "    # summarize history for loss\n",
    "    axs[1].plot(range(1,len(model_history.history['loss'])+1),model_history.history['loss'])\n",
    "    axs[1].plot(range(1,len(model_history.history['val_loss'])+1),model_history.history['val_loss'])\n",
    "    axs[1].set_title('Model Loss')\n",
    "    axs[1].set_ylabel('Loss')\n",
    "    axs[1].set_xlabel('Epoch')\n",
    "   #  axs[1].set_xticks(np.arange(1,len(model_history.history['loss'])+1),len(model_history.history['loss'])/10)\n",
    "    axs[1].set_xticks(np.arange(1,len(model_history.history['loss'])+1, len(model_history.history['loss'])/10))\n",
    "\n",
    "    axs[1].legend(['train', 'val'], loc='best')\n",
    "    plt.show()"
   ]
  },
  {
   "cell_type": "code",
   "execution_count": 57,
   "id": "f0a4ebbe-f6ec-465f-88c7-02a6dc4f77f5",
   "metadata": {
    "tags": []
   },
   "outputs": [
    {
     "data": {
      "image/png": "[encoded data removed]",
      "text/plain": [
       "<Figure size 1500x500 with 2 Axes>"
      ]
     },
     "metadata": {},
     "output_type": "display_data"
    }
   ],
   "source": [
    "plot_model_history(history)"
   ]
  },
  {
   "cell_type": "code",
   "execution_count": 58,
   "id": "875067eb-5ad8-4a03-8777-41790a9c7242",
   "metadata": {
    "tags": []
   },
   "outputs": [
    {
     "name": "stdout",
     "output_type": "stream",
     "text": [
      "22/22 [==============================] - 1s 38ms/step\n"
     ]
    }
   ],
   "source": [
    "prediction = model.predict(x_test)"
   ]
  },
  {
   "cell_type": "code",
   "execution_count": 59,
   "id": "5a96ae97-f65b-42c8-b420-8263acb6ce05",
   "metadata": {
    "tags": []
   },
   "outputs": [],
   "source": [
    "y_predict_classes = np.argmax(prediction , axis=1)"
   ]
  },
  {
   "cell_type": "code",
   "execution_count": 60,
   "id": "9b304405-9b5a-4394-9f84-419ccdfbf083",
   "metadata": {
    "tags": []
   },
   "outputs": [
    {
     "data": {
      "text/plain": [
       "array([3, 4, 4, 0, 0, 5, 3, 3, 2, 0, 3, 5, 6, 2, 1, 1, 0, 0, 6, 5, 0, 3,\n",
       "       5, 1, 2, 2, 1, 2, 2, 6, 6, 3, 4, 1, 6, 6, 0, 0, 1, 4, 3, 6, 1, 4,\n",
       "       4, 0, 3, 3, 1, 1, 0, 2, 4, 6, 2, 0, 5, 0, 4, 3, 6, 5, 1, 0, 3, 6,\n",
       "       1, 3, 2, 5, 4, 1, 3, 2, 1, 4, 6, 5, 6, 3, 6, 4, 6, 6, 5, 2, 2, 0,\n",
       "       0, 1, 4, 6, 1, 5, 6, 5, 0, 2, 3, 1, 0, 4, 1, 2, 0, 0, 6, 6, 1, 0,\n",
       "       0, 1, 0, 1, 4, 1, 6, 3, 2, 3, 1, 2, 6, 2, 1, 1, 5, 3, 1, 0, 3, 0,\n",
       "       0, 6, 5, 4, 6, 6, 0, 3, 2, 6, 4, 3, 5, 5, 5, 1, 2, 0, 0, 4, 4, 1,\n",
       "       5, 1, 1, 3, 0, 3, 5, 5, 2, 4, 2, 1, 1, 5, 4, 3, 3, 2, 0, 2, 3, 6,\n",
       "       1, 5, 1, 6, 6, 2, 2, 0, 2, 0, 2, 3, 3, 5, 4, 5, 6, 2, 4, 6, 0, 3,\n",
       "       2, 0, 2, 0, 3, 2, 0, 5, 5, 6, 6, 4, 4, 0, 6, 6, 6, 6, 2, 1, 0, 5,\n",
       "       2, 1, 3, 1, 5, 3, 6, 2, 3, 3, 4, 3, 1, 6, 1, 3, 2, 3, 0, 1, 1, 0,\n",
       "       1, 0, 3, 3, 4, 1, 6, 3, 2, 6, 3, 3, 1, 3, 4, 2, 1, 3, 2, 0, 5, 5,\n",
       "       6, 4, 1, 4, 0, 0, 6, 0, 1, 1, 1, 0, 0, 6, 5, 3, 2, 3, 0, 6, 0, 1,\n",
       "       0, 4, 1, 6, 5, 1, 3, 2, 4, 5, 5, 1, 0, 3, 1, 0, 1, 6, 2, 1, 5, 3,\n",
       "       1, 5, 6, 6, 5, 1, 1, 6, 5, 1, 5, 0, 5, 6, 4, 5, 2, 0, 0, 3, 1, 3,\n",
       "       5, 1, 6, 2, 4, 2, 0, 4, 2, 2, 1, 0, 3, 2, 2, 0, 4, 3, 4, 0, 3, 6,\n",
       "       0, 3, 6, 4, 3, 4, 2, 3, 3, 1, 2, 0, 0, 6, 0, 1, 0, 2, 2, 6, 2, 3,\n",
       "       2, 5, 0, 0, 5, 3, 2, 0, 2, 3, 4, 0, 0, 4, 4, 2, 0, 0, 4, 4, 0, 5,\n",
       "       2, 4, 0, 0, 2, 5, 5, 3, 5, 3, 4, 5, 2, 3, 3, 4, 1, 2, 2, 2, 4, 1,\n",
       "       3, 1, 6, 6, 6, 6, 0, 0, 5, 1, 6, 2, 3, 2, 5, 0, 2, 0, 6, 1, 2, 0,\n",
       "       2, 4, 0, 2, 1, 2, 5, 3, 6, 6, 0, 3, 2, 1, 4, 6, 6, 4, 4, 4, 1, 0,\n",
       "       6, 5, 2, 0, 5, 0, 3, 6, 3, 5, 6, 6, 0, 0, 3, 0, 1, 2, 4, 5, 5, 6,\n",
       "       3, 3, 2, 2, 3, 1, 4, 1, 0, 2, 5, 3, 3, 2, 3, 0, 2, 0, 2, 5, 6, 1,\n",
       "       2, 5, 3, 0, 0, 3, 2, 4, 2, 1, 0, 0, 5, 4, 2, 3, 4, 0, 4, 0, 3, 5,\n",
       "       4, 4, 6, 6, 6, 5, 6, 2, 2, 1, 2, 0, 5, 6, 3, 1, 3, 4, 4, 2, 2, 0,\n",
       "       1, 5, 3, 0, 6, 3, 5, 0, 4, 3, 2, 2, 3, 5, 3, 5, 0, 3, 6, 0, 3, 3,\n",
       "       1, 5, 5, 1, 0, 1, 6, 2, 4, 3, 3, 6, 0, 6, 1, 0, 3, 5, 6, 4, 2, 3,\n",
       "       6, 2, 2, 2, 0, 1, 0, 1, 3, 3, 5, 4, 4, 5, 6, 4, 1, 0, 2, 1, 3, 6,\n",
       "       2, 3, 6, 5, 1, 3, 6, 0, 5, 3, 5, 5, 6, 6, 1, 5, 5, 5, 6, 2, 6, 2,\n",
       "       6, 5, 1, 3, 2, 0, 2, 3, 6, 6, 3, 5, 1, 5, 5, 4, 1, 0, 1, 0, 5, 4,\n",
       "       0, 2, 0, 5, 1, 6, 6, 0, 3, 5, 1, 1, 1, 5, 4, 0, 3, 2, 3, 5, 1, 1,\n",
       "       5, 1, 0, 0, 6, 5, 5, 4, 2, 1, 4, 5, 2, 6, 1, 1, 3, 4])"
      ]
     },
     "execution_count": 60,
     "metadata": {},
     "output_type": "execute_result"
    }
   ],
   "source": [
    "y_predict_classes"
   ]
  },
  {
   "cell_type": "code",
   "execution_count": 61,
   "id": "d6cd1ae8-4bcc-404d-905e-a80f36fd2731",
   "metadata": {
    "tags": []
   },
   "outputs": [],
   "source": [
    "y_true = np.argmax(y_test , axis=1)"
   ]
  },
  {
   "cell_type": "code",
   "execution_count": 62,
   "id": "339b3319-6b22-465f-9667-6a966d21019d",
   "metadata": {
    "tags": []
   },
   "outputs": [
    {
     "data": {
      "text/plain": [
       "array([3, 4, 4, 3, 0, 4, 3, 3, 2, 0, 3, 5, 6, 1, 1, 1, 1, 2, 6, 5, 0, 3,\n",
       "       0, 3, 2, 2, 1, 0, 3, 6, 6, 3, 4, 1, 6, 6, 0, 0, 1, 4, 3, 6, 1, 4,\n",
       "       4, 0, 3, 3, 1, 0, 0, 0, 5, 6, 2, 0, 2, 0, 4, 3, 6, 2, 1, 0, 3, 6,\n",
       "       0, 3, 1, 5, 5, 1, 0, 2, 1, 4, 6, 5, 6, 3, 6, 6, 6, 6, 5, 5, 2, 5,\n",
       "       0, 0, 4, 6, 1, 5, 6, 5, 0, 2, 3, 1, 0, 4, 2, 2, 0, 0, 6, 6, 1, 0,\n",
       "       0, 1, 2, 1, 4, 1, 6, 1, 5, 3, 1, 5, 6, 2, 1, 1, 4, 3, 1, 0, 3, 0,\n",
       "       0, 6, 4, 4, 6, 6, 1, 0, 2, 6, 4, 3, 5, 5, 4, 1, 2, 0, 0, 4, 4, 1,\n",
       "       5, 2, 0, 3, 0, 3, 5, 5, 0, 5, 2, 1, 2, 4, 4, 3, 3, 1, 0, 2, 3, 6,\n",
       "       1, 5, 1, 6, 6, 2, 0, 0, 2, 1, 2, 3, 3, 5, 4, 5, 6, 2, 4, 6, 4, 3,\n",
       "       2, 2, 2, 0, 3, 2, 0, 5, 5, 6, 6, 4, 4, 0, 6, 6, 6, 6, 2, 5, 5, 5,\n",
       "       2, 1, 0, 1, 5, 3, 6, 2, 3, 3, 4, 3, 1, 6, 1, 3, 2, 3, 0, 1, 1, 0,\n",
       "       1, 5, 3, 3, 4, 1, 6, 3, 2, 6, 3, 0, 1, 3, 5, 2, 1, 3, 2, 0, 0, 5,\n",
       "       6, 4, 1, 4, 0, 0, 6, 1, 0, 1, 0, 0, 0, 6, 5, 3, 2, 3, 0, 6, 0, 1,\n",
       "       0, 4, 1, 6, 5, 1, 0, 0, 4, 5, 5, 1, 0, 3, 0, 0, 1, 6, 2, 1, 5, 3,\n",
       "       1, 5, 6, 6, 1, 5, 1, 6, 4, 1, 2, 0, 5, 6, 2, 4, 2, 0, 0, 3, 1, 1,\n",
       "       2, 1, 6, 4, 4, 1, 0, 2, 2, 2, 3, 0, 3, 5, 4, 0, 4, 3, 4, 2, 3, 6,\n",
       "       0, 3, 6, 4, 3, 5, 2, 3, 3, 1, 2, 0, 0, 6, 0, 1, 0, 2, 4, 6, 2, 3,\n",
       "       0, 4, 0, 2, 5, 3, 2, 0, 1, 3, 4, 0, 0, 4, 4, 0, 0, 0, 4, 4, 0, 4,\n",
       "       5, 4, 0, 0, 2, 2, 0, 3, 2, 3, 4, 5, 0, 3, 1, 4, 0, 2, 5, 2, 5, 5,\n",
       "       3, 1, 6, 6, 6, 6, 0, 2, 4, 4, 6, 4, 3, 5, 5, 0, 2, 0, 6, 1, 2, 0,\n",
       "       2, 4, 0, 0, 1, 2, 5, 3, 6, 6, 0, 3, 5, 1, 4, 6, 6, 2, 4, 4, 1, 0,\n",
       "       6, 5, 5, 0, 5, 0, 3, 6, 3, 5, 6, 6, 0, 0, 0, 5, 1, 5, 2, 1, 5, 6,\n",
       "       3, 3, 2, 5, 3, 2, 4, 1, 0, 2, 5, 3, 3, 1, 3, 2, 2, 0, 2, 2, 6, 1,\n",
       "       2, 5, 3, 0, 0, 3, 1, 4, 2, 1, 0, 0, 5, 5, 2, 3, 4, 0, 4, 0, 3, 5,\n",
       "       5, 4, 6, 6, 1, 0, 6, 2, 1, 0, 1, 0, 5, 4, 3, 1, 3, 4, 4, 2, 2, 0,\n",
       "       1, 5, 3, 5, 6, 3, 5, 1, 4, 3, 2, 2, 3, 5, 2, 5, 0, 3, 6, 0, 3, 3,\n",
       "       1, 5, 5, 1, 3, 1, 6, 2, 4, 3, 3, 6, 0, 6, 1, 0, 3, 5, 6, 4, 2, 3,\n",
       "       6, 2, 2, 2, 0, 1, 1, 1, 3, 0, 4, 1, 4, 2, 6, 4, 3, 0, 4, 1, 3, 6,\n",
       "       2, 0, 6, 5, 1, 3, 6, 0, 4, 3, 5, 5, 6, 6, 1, 5, 5, 4, 6, 1, 6, 4,\n",
       "       6, 4, 1, 0, 2, 0, 2, 3, 6, 6, 1, 5, 0, 5, 4, 4, 2, 0, 1, 2, 5, 4,\n",
       "       0, 2, 1, 4, 1, 6, 6, 2, 3, 5, 0, 3, 1, 5, 4, 1, 0, 2, 3, 5, 1, 5,\n",
       "       5, 2, 0, 1, 6, 4, 5, 4, 2, 1, 4, 5, 4, 6, 1, 1, 3, 4])"
      ]
     },
     "execution_count": 62,
     "metadata": {},
     "output_type": "execute_result"
    }
   ],
   "source": [
    "y_true"
   ]
  },
  {
   "cell_type": "code",
   "execution_count": null,
   "id": "def7b8e2-ebdc-40df-b312-1d078ba22550",
   "metadata": {},
   "outputs": [],
   "source": []
  }
 ],
 "metadata": {
  "kernelspec": {
   "display_name": "Python 3 (ipykernel)",
   "language": "python",
   "name": "python3"
  },
  "language_info": {
   "codemirror_mode": {
    "name": "ipython",
    "version": 3
   },
   "file_extension": ".py",
   "mimetype": "text/x-python",
   "name": "python",
   "nbconvert_exporter": "python",
   "pygments_lexer": "ipython3",
   "version": "3.10.9"
  }
 },
 "nbformat": 4,
 "nbformat_minor": 5
}

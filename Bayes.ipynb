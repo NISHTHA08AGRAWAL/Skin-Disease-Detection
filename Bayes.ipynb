{
 "cells": [
  {
   "cell_type": "code",
   "execution_count": 1,
   "id": "0149f5af-973b-4947-a420-6060297624b5",
   "metadata": {},
   "outputs": [],
   "source": [
    "import numpy as np\n",
    "import pandas as pd\n",
    "import matplotlib.pyplot as plt\n",
    "import os\n",
    "from glob import glob\n",
    "import seaborn as sns\n",
    "from PIL import Image\n",
    "import warnings\n",
    "warnings.filterwarnings('ignore')\n",
    "import tensorflow as tf\n",
    "from sklearn.utils import resample\n",
    "from keras.utils.np_utils import to_categorical\n",
    "from sklearn.model_selection import train_test_split\n",
    "from tensorflow.keras.preprocessing import image\n",
    "import pickle"
   ]
  },
  {
   "cell_type": "code",
   "execution_count": 4,
   "id": "4ef8ea3e-74c0-4a90-b539-2c5ba8351221",
   "metadata": {},
   "outputs": [],
   "source": [
    "# Initializing the path of the working directory\n",
    "base_dir = r\"C:\\Users\\MSI\\Documents\\MiniProject\"\n",
    "\n",
    "# Mapping the image id with their path so that it can be referred easily\n",
    "imageid_path_dict = {os.path.splitext(os.path.basename(x))[0]: x \n",
    "                     for x in glob(os.path.join(base_dir, 'sample', '*.jpg'))}\n",
    "\n",
    "# This dictionary is useful for displaying more human-friendly labels later on\n",
    "lesion_type_dict = {\n",
    "    'nv': 'Melanocytic nevi',\n",
    "    'mel': 'Melanoma',\n",
    "    'bkl': 'Benign keratosis-like lesions ',\n",
    "    'bcc': 'Basal cell carcinoma',\n",
    "    'akiec': 'Actinic keratoses',\n",
    "    'vasc': 'Vascular lesions',\n",
    "    'df': 'Dermatofibroma'\n",
    "}"
   ]
  },
  {
   "cell_type": "code",
   "execution_count": 5,
   "id": "63620724-3aae-476c-8269-92511046b7e9",
   "metadata": {},
   "outputs": [],
   "source": [
    "# Reffering to the medadata having the information about all the images we have.\n",
    "skin_df = pd.read_csv(os.path.join(base_dir, 'HAM10000_metadata.csv'))\n",
    "\n",
    "# Creating New Columns path , cell_type and cell_type_idx for better readability\n",
    "\n",
    "# Keeping the path of the respected image\n",
    "skin_df['path'] = skin_df['image_id'].map(imageid_path_dict.get)\n",
    "\n",
    "# Keeping the human understable Name with the respected name\n",
    "skin_df['cell_type'] = skin_df['dx'].map(lesion_type_dict.get)\n",
    "\n",
    "# Keeping the index of the cell_type of the dict\n",
    "skin_df['cell_type_idx'] = pd.Categorical(skin_df['cell_type']).codes"
   ]
  },
  {
   "cell_type": "code",
   "execution_count": null,
   "id": "96cc824e-d562-4664-b4fa-7eaf345dbdf1",
   "metadata": {},
   "outputs": [],
   "source": []
  },
  {
   "cell_type": "code",
   "execution_count": 6,
   "id": "1ed04ff1-ba0a-4a94-b577-5731dcbfbd2d",
   "metadata": {},
   "outputs": [
    {
     "data": {
      "text/plain": [
       "Melanocytic nevi                  6705\n",
       "Melanoma                          1113\n",
       "Benign keratosis-like lesions     1099\n",
       "Basal cell carcinoma               514\n",
       "Actinic keratoses                  327\n",
       "Vascular lesions                   142\n",
       "Dermatofibroma                     115\n",
       "Name: cell_type, dtype: int64"
      ]
     },
     "execution_count": 6,
     "metadata": {},
     "output_type": "execute_result"
    }
   ],
   "source": [
    "skin_df['cell_type'].value_counts()"
   ]
  },
  {
   "cell_type": "code",
   "execution_count": 7,
   "id": "cec83187-b302-4ee4-8988-16bafa56c427",
   "metadata": {},
   "outputs": [
    {
     "data": {
      "text/html": [
       "<div>\n",
       "<style scoped>\n",
       "    .dataframe tbody tr th:only-of-type {\n",
       "        vertical-align: middle;\n",
       "    }\n",
       "\n",
       "    .dataframe tbody tr th {\n",
       "        vertical-align: top;\n",
       "    }\n",
       "\n",
       "    .dataframe thead th {\n",
       "        text-align: right;\n",
       "    }\n",
       "</style>\n",
       "<table border=\"1\" class=\"dataframe\">\n",
       "  <thead>\n",
       "    <tr style=\"text-align: right;\">\n",
       "      <th></th>\n",
       "      <th>lesion_id</th>\n",
       "      <th>image_id</th>\n",
       "      <th>dx</th>\n",
       "      <th>dx_type</th>\n",
       "      <th>age</th>\n",
       "      <th>sex</th>\n",
       "      <th>localization</th>\n",
       "      <th>dataset</th>\n",
       "      <th>path</th>\n",
       "      <th>cell_type</th>\n",
       "      <th>cell_type_idx</th>\n",
       "    </tr>\n",
       "  </thead>\n",
       "  <tbody>\n",
       "    <tr>\n",
       "      <th>0</th>\n",
       "      <td>HAM_0000118</td>\n",
       "      <td>ISIC_0027419</td>\n",
       "      <td>bkl</td>\n",
       "      <td>histo</td>\n",
       "      <td>80.0</td>\n",
       "      <td>male</td>\n",
       "      <td>scalp</td>\n",
       "      <td>vidir_modern</td>\n",
       "      <td>C:\\Users\\MSI\\Documents\\MiniProject\\sample\\ISIC...</td>\n",
       "      <td>Benign keratosis-like lesions</td>\n",
       "      <td>2</td>\n",
       "    </tr>\n",
       "    <tr>\n",
       "      <th>1</th>\n",
       "      <td>HAM_0000118</td>\n",
       "      <td>ISIC_0025030</td>\n",
       "      <td>bkl</td>\n",
       "      <td>histo</td>\n",
       "      <td>80.0</td>\n",
       "      <td>male</td>\n",
       "      <td>scalp</td>\n",
       "      <td>vidir_modern</td>\n",
       "      <td>C:\\Users\\MSI\\Documents\\MiniProject\\sample\\ISIC...</td>\n",
       "      <td>Benign keratosis-like lesions</td>\n",
       "      <td>2</td>\n",
       "    </tr>\n",
       "    <tr>\n",
       "      <th>2</th>\n",
       "      <td>HAM_0002730</td>\n",
       "      <td>ISIC_0026769</td>\n",
       "      <td>bkl</td>\n",
       "      <td>histo</td>\n",
       "      <td>80.0</td>\n",
       "      <td>male</td>\n",
       "      <td>scalp</td>\n",
       "      <td>vidir_modern</td>\n",
       "      <td>C:\\Users\\MSI\\Documents\\MiniProject\\sample\\ISIC...</td>\n",
       "      <td>Benign keratosis-like lesions</td>\n",
       "      <td>2</td>\n",
       "    </tr>\n",
       "    <tr>\n",
       "      <th>3</th>\n",
       "      <td>HAM_0002730</td>\n",
       "      <td>ISIC_0025661</td>\n",
       "      <td>bkl</td>\n",
       "      <td>histo</td>\n",
       "      <td>80.0</td>\n",
       "      <td>male</td>\n",
       "      <td>scalp</td>\n",
       "      <td>vidir_modern</td>\n",
       "      <td>C:\\Users\\MSI\\Documents\\MiniProject\\sample\\ISIC...</td>\n",
       "      <td>Benign keratosis-like lesions</td>\n",
       "      <td>2</td>\n",
       "    </tr>\n",
       "    <tr>\n",
       "      <th>4</th>\n",
       "      <td>HAM_0001466</td>\n",
       "      <td>ISIC_0031633</td>\n",
       "      <td>bkl</td>\n",
       "      <td>histo</td>\n",
       "      <td>75.0</td>\n",
       "      <td>male</td>\n",
       "      <td>ear</td>\n",
       "      <td>vidir_modern</td>\n",
       "      <td>C:\\Users\\MSI\\Documents\\MiniProject\\sample\\ISIC...</td>\n",
       "      <td>Benign keratosis-like lesions</td>\n",
       "      <td>2</td>\n",
       "    </tr>\n",
       "  </tbody>\n",
       "</table>\n",
       "</div>"
      ],
      "text/plain": [
       "     lesion_id      image_id   dx dx_type   age   sex localization  \\\n",
       "0  HAM_0000118  ISIC_0027419  bkl   histo  80.0  male        scalp   \n",
       "1  HAM_0000118  ISIC_0025030  bkl   histo  80.0  male        scalp   \n",
       "2  HAM_0002730  ISIC_0026769  bkl   histo  80.0  male        scalp   \n",
       "3  HAM_0002730  ISIC_0025661  bkl   histo  80.0  male        scalp   \n",
       "4  HAM_0001466  ISIC_0031633  bkl   histo  75.0  male          ear   \n",
       "\n",
       "        dataset                                               path  \\\n",
       "0  vidir_modern  C:\\Users\\MSI\\Documents\\MiniProject\\sample\\ISIC...   \n",
       "1  vidir_modern  C:\\Users\\MSI\\Documents\\MiniProject\\sample\\ISIC...   \n",
       "2  vidir_modern  C:\\Users\\MSI\\Documents\\MiniProject\\sample\\ISIC...   \n",
       "3  vidir_modern  C:\\Users\\MSI\\Documents\\MiniProject\\sample\\ISIC...   \n",
       "4  vidir_modern  C:\\Users\\MSI\\Documents\\MiniProject\\sample\\ISIC...   \n",
       "\n",
       "                        cell_type  cell_type_idx  \n",
       "0  Benign keratosis-like lesions               2  \n",
       "1  Benign keratosis-like lesions               2  \n",
       "2  Benign keratosis-like lesions               2  \n",
       "3  Benign keratosis-like lesions               2  \n",
       "4  Benign keratosis-like lesions               2  "
      ]
     },
     "execution_count": 7,
     "metadata": {},
     "output_type": "execute_result"
    }
   ],
   "source": [
    "#Showing the content of the records\n",
    "skin_df.head()"
   ]
  },
  {
   "cell_type": "code",
   "execution_count": 8,
   "id": "d22351f1-5323-4e46-a2a6-0c3a8fb6df9e",
   "metadata": {},
   "outputs": [
    {
     "data": {
      "text/plain": [
       "lesion_id         0\n",
       "image_id          0\n",
       "dx                0\n",
       "dx_type           0\n",
       "age              57\n",
       "sex               0\n",
       "localization      0\n",
       "dataset           0\n",
       "path              0\n",
       "cell_type         0\n",
       "cell_type_idx     0\n",
       "dtype: int64"
      ]
     },
     "execution_count": 8,
     "metadata": {},
     "output_type": "execute_result"
    }
   ],
   "source": [
    "# Preprocessing\n",
    "# # Checking the records again to see,is there is any record having empty field\n",
    "skin_df.isnull().sum()"
   ]
  },
  {
   "cell_type": "code",
   "execution_count": 9,
   "id": "6a095c55-2870-4324-a607-e9c69e9869ef",
   "metadata": {},
   "outputs": [],
   "source": [
    "# Above we find that there are 57 records whose age attribute have null value\n",
    "# So in this step we are filling that empty fields with the mean value of the attribute age\n",
    "skin_df['age'].fillna((skin_df['age'].mean()) , inplace = True)"
   ]
  },
  {
   "cell_type": "code",
   "execution_count": 10,
   "id": "3c511787-b39f-4d52-b344-179d13c5a0e8",
   "metadata": {},
   "outputs": [
    {
     "data": {
      "text/plain": [
       "lesion_id        0\n",
       "image_id         0\n",
       "dx               0\n",
       "dx_type          0\n",
       "age              0\n",
       "sex              0\n",
       "localization     0\n",
       "dataset          0\n",
       "path             0\n",
       "cell_type        0\n",
       "cell_type_idx    0\n",
       "dtype: int64"
      ]
     },
     "execution_count": 10,
     "metadata": {},
     "output_type": "execute_result"
    }
   ],
   "source": [
    "# Checking the records again to see,is there is any record having empty field\n",
    "skin_df.isnull().sum()"
   ]
  },
  {
   "cell_type": "code",
   "execution_count": 11,
   "id": "9424aef7-d69c-4584-bd09-c736483e82bd",
   "metadata": {},
   "outputs": [],
   "source": [
    "# Balancing the dataset\n",
    "cell_type_idx = 'cell_type_idx'\n",
    "record_0 = skin_df[skin_df[cell_type_idx] == 0]\n",
    "record_1 = skin_df[skin_df[cell_type_idx] == 1]\n",
    "record_2 = skin_df[skin_df[cell_type_idx] == 2]\n",
    "record_3 = skin_df[skin_df[cell_type_idx] == 3]\n",
    "record_4 = skin_df[skin_df[cell_type_idx] == 4]\n",
    "record_5 = skin_df[skin_df[cell_type_idx] == 5]\n",
    "record_6 = skin_df[skin_df[cell_type_idx] == 6]"
   ]
  },
  {
   "cell_type": "code",
   "execution_count": 12,
   "id": "88b9e112-e6a0-4b7c-96dd-66e0a6852d2b",
   "metadata": {},
   "outputs": [],
   "source": [
    "n = 500;\n",
    "record_bal_0 = resample(record_0 , replace = True , n_samples = n , random_state = 42)\n",
    "record_bal_1 = resample(record_1 , replace = True , n_samples = n , random_state = 42)\n",
    "record_bal_2 = resample(record_2 , replace = True , n_samples = n , random_state = 42)\n",
    "record_bal_3 = resample(record_3 , replace = True , n_samples = n , random_state = 42)\n",
    "record_bal_4 = resample(record_4 , replace = True , n_samples = n , random_state = 42)\n",
    "record_bal_5 = resample(record_5 , replace = True , n_samples = n , random_state = 42)\n",
    "record_bal_6 = resample(record_6 , replace = True , n_samples = n , random_state = 42)"
   ]
  },
  {
   "cell_type": "code",
   "execution_count": 13,
   "id": "a27e4b54-507c-4f9b-919e-cd461ea61f9c",
   "metadata": {},
   "outputs": [],
   "source": [
    "balance_record = pd.concat([record_bal_0 , record_bal_1 , record_bal_2 , record_bal_3 , record_bal_4 , record_bal_5 , record_bal_6])"
   ]
  },
  {
   "cell_type": "code",
   "execution_count": 14,
   "id": "4342a8ab-0ebd-478e-959d-16249b1903a7",
   "metadata": {},
   "outputs": [],
   "source": [
    "balance_record['image'] = balance_record['path'].map(lambda x: np.asarray(Image.open(x).resize((64,64))).flatten())"
   ]
  },
  {
   "cell_type": "code",
   "execution_count": 15,
   "id": "33f0c62a-ddcc-456a-a555-fb7d3ec4f6b3",
   "metadata": {},
   "outputs": [
    {
     "data": {
      "text/plain": [
       "(3500, 12)"
      ]
     },
     "execution_count": 15,
     "metadata": {},
     "output_type": "execute_result"
    }
   ],
   "source": [
    "balance_record.shape"
   ]
  },
  {
   "cell_type": "code",
   "execution_count": 16,
   "id": "77ee590f-d18f-47f2-af1d-e0441f6e0d16",
   "metadata": {},
   "outputs": [
    {
     "data": {
      "text/plain": [
       "lesion_id         object\n",
       "image_id          object\n",
       "dx                object\n",
       "dx_type           object\n",
       "age              float64\n",
       "sex               object\n",
       "localization      object\n",
       "dataset           object\n",
       "path              object\n",
       "cell_type         object\n",
       "cell_type_idx       int8\n",
       "image             object\n",
       "dtype: object"
      ]
     },
     "execution_count": 16,
     "metadata": {},
     "output_type": "execute_result"
    }
   ],
   "source": [
    "balance_record.dtypes"
   ]
  },
  {
   "cell_type": "code",
   "execution_count": 17,
   "id": "67b157d1-fa3f-4e8c-8511-66929031f935",
   "metadata": {},
   "outputs": [
    {
     "data": {
      "text/plain": [
       "(3500, 12288)"
      ]
     },
     "execution_count": 17,
     "metadata": {},
     "output_type": "execute_result"
    }
   ],
   "source": [
    "X = np.asarray(balance_record['image'].tolist())\n",
    "X.shape"
   ]
  },
  {
   "cell_type": "code",
   "execution_count": 18,
   "id": "d9a2f90e-5660-4d6d-8802-6995bc8f9483",
   "metadata": {},
   "outputs": [],
   "source": [
    "Y = balance_record['cell_type_idx']"
   ]
  },
  {
   "cell_type": "code",
   "execution_count": 19,
   "id": "5b90064f-8f60-453e-bd50-7a155d0a0165",
   "metadata": {},
   "outputs": [],
   "source": [
    "x_train, x_test, y_train, y_test = train_test_split(X, Y, test_size=0.20,random_state=42)"
   ]
  },
  {
   "cell_type": "code",
   "execution_count": 20,
   "id": "c1bd44d1-d917-4976-97cd-913534c08b3d",
   "metadata": {},
   "outputs": [],
   "source": [
    "from sklearn.preprocessing import StandardScaler\n",
    "ss = StandardScaler()\n",
    "x_train = ss.fit_transform(x_train)\n",
    "x_test = ss.transform(x_test)"
   ]
  },
  {
   "cell_type": "code",
   "execution_count": 21,
   "id": "3cd848ae-7e3d-48e1-8348-635963ef7caf",
   "metadata": {},
   "outputs": [
    {
     "data": {
      "text/html": [
       "<style>#sk-container-id-1 {color: black;background-color: white;}#sk-container-id-1 pre{padding: 0;}#sk-container-id-1 div.sk-toggleable {background-color: white;}#sk-container-id-1 label.sk-toggleable__label {cursor: pointer;display: block;width: 100%;margin-bottom: 0;padding: 0.3em;box-sizing: border-box;text-align: center;}#sk-container-id-1 label.sk-toggleable__label-arrow:before {content: \"▸\";float: left;margin-right: 0.25em;color: #696969;}#sk-container-id-1 label.sk-toggleable__label-arrow:hover:before {color: black;}#sk-container-id-1 div.sk-estimator:hover label.sk-toggleable__label-arrow:before {color: black;}#sk-container-id-1 div.sk-toggleable__content {max-height: 0;max-width: 0;overflow: hidden;text-align: left;background-color: #f0f8ff;}#sk-container-id-1 div.sk-toggleable__content pre {margin: 0.2em;color: black;border-radius: 0.25em;background-color: #f0f8ff;}#sk-container-id-1 input.sk-toggleable__control:checked~div.sk-toggleable__content {max-height: 200px;max-width: 100%;overflow: auto;}#sk-container-id-1 input.sk-toggleable__control:checked~label.sk-toggleable__label-arrow:before {content: \"▾\";}#sk-container-id-1 div.sk-estimator input.sk-toggleable__control:checked~label.sk-toggleable__label {background-color: #d4ebff;}#sk-container-id-1 div.sk-label input.sk-toggleable__control:checked~label.sk-toggleable__label {background-color: #d4ebff;}#sk-container-id-1 input.sk-hidden--visually {border: 0;clip: rect(1px 1px 1px 1px);clip: rect(1px, 1px, 1px, 1px);height: 1px;margin: -1px;overflow: hidden;padding: 0;position: absolute;width: 1px;}#sk-container-id-1 div.sk-estimator {font-family: monospace;background-color: #f0f8ff;border: 1px dotted black;border-radius: 0.25em;box-sizing: border-box;margin-bottom: 0.5em;}#sk-container-id-1 div.sk-estimator:hover {background-color: #d4ebff;}#sk-container-id-1 div.sk-parallel-item::after {content: \"\";width: 100%;border-bottom: 1px solid gray;flex-grow: 1;}#sk-container-id-1 div.sk-label:hover label.sk-toggleable__label {background-color: #d4ebff;}#sk-container-id-1 div.sk-serial::before {content: \"\";position: absolute;border-left: 1px solid gray;box-sizing: border-box;top: 0;bottom: 0;left: 50%;z-index: 0;}#sk-container-id-1 div.sk-serial {display: flex;flex-direction: column;align-items: center;background-color: white;padding-right: 0.2em;padding-left: 0.2em;position: relative;}#sk-container-id-1 div.sk-item {position: relative;z-index: 1;}#sk-container-id-1 div.sk-parallel {display: flex;align-items: stretch;justify-content: center;background-color: white;position: relative;}#sk-container-id-1 div.sk-item::before, #sk-container-id-1 div.sk-parallel-item::before {content: \"\";position: absolute;border-left: 1px solid gray;box-sizing: border-box;top: 0;bottom: 0;left: 50%;z-index: -1;}#sk-container-id-1 div.sk-parallel-item {display: flex;flex-direction: column;z-index: 1;position: relative;background-color: white;}#sk-container-id-1 div.sk-parallel-item:first-child::after {align-self: flex-end;width: 50%;}#sk-container-id-1 div.sk-parallel-item:last-child::after {align-self: flex-start;width: 50%;}#sk-container-id-1 div.sk-parallel-item:only-child::after {width: 0;}#sk-container-id-1 div.sk-dashed-wrapped {border: 1px dashed gray;margin: 0 0.4em 0.5em 0.4em;box-sizing: border-box;padding-bottom: 0.4em;background-color: white;}#sk-container-id-1 div.sk-label label {font-family: monospace;font-weight: bold;display: inline-block;line-height: 1.2em;}#sk-container-id-1 div.sk-label-container {text-align: center;}#sk-container-id-1 div.sk-container {/* jupyter's `normalize.less` sets `[hidden] { display: none; }` but bootstrap.min.css set `[hidden] { display: none !important; }` so we also need the `!important` here to be able to override the default hidden behavior on the sphinx rendered scikit-learn.org. See: https://github.com/scikit-learn/scikit-learn/issues/21755 */display: inline-block !important;position: relative;}#sk-container-id-1 div.sk-text-repr-fallback {display: none;}</style><div id=\"sk-container-id-1\" class=\"sk-top-container\"><div class=\"sk-text-repr-fallback\"><pre>GaussianNB()</pre><b>In a Jupyter environment, please rerun this cell to show the HTML representation or trust the notebook. <br />On GitHub, the HTML representation is unable to render, please try loading this page with nbviewer.org.</b></div><div class=\"sk-container\" hidden><div class=\"sk-item\"><div class=\"sk-estimator sk-toggleable\"><input class=\"sk-toggleable__control sk-hidden--visually\" id=\"sk-estimator-id-1\" type=\"checkbox\" checked><label for=\"sk-estimator-id-1\" class=\"sk-toggleable__label sk-toggleable__label-arrow\">GaussianNB</label><div class=\"sk-toggleable__content\"><pre>GaussianNB()</pre></div></div></div></div></div>"
      ],
      "text/plain": [
       "GaussianNB()"
      ]
     },
     "execution_count": 21,
     "metadata": {},
     "output_type": "execute_result"
    }
   ],
   "source": [
    "from sklearn.naive_bayes import GaussianNB\n",
    "classifier = GaussianNB()\n",
    "classifier.fit(x_train , y_train)"
   ]
  },
  {
   "cell_type": "code",
   "execution_count": 22,
   "id": "ab5a2292-2466-4694-acad-a3e913909284",
   "metadata": {},
   "outputs": [
    {
     "name": "stdout",
     "output_type": "stream",
     "text": [
      "[3 1 4 3 4 0 6 3 2 3 3 2 3 2 2 1 0 1 2 5 6 3 2 1 3 2 2 2 1 2 4 1 1 1 6 6 1\n",
      " 0 6 5 6 6 3 5 4 4 2 3 6 2 3 2 2 3 2 2 4 0 4 3 6 6 5 1 3 5 1 1 6 5 5 2 3 4\n",
      " 1 4 6 3 6 3 2 1 4 1 5 5 1 2 3 1 4 1 1 4 0 5 3 2 6 6 3 4 2 1 4 3 2 3 3 1 3\n",
      " 1 2 3 4 1 2 1 2 1 1 1 5 1 1 1 5 1 1 3 2 3 3 2 6 4 3 3 3 4 2 2 4 6 1 5 1 3\n",
      " 2 2 2 4 4 1 2 2 1 3 2 1 5 5 2 4 2 2 2 6 4 2 3 1 3 2 6 2 2 5 1 0 1 2 0 2 1\n",
      " 1 2 4 3 5 3 5 6 0 4 1 1 3 2 3 2 1 2 5 0 3 2 2 6 3 4 6 2 6 3 3 2 0 1 2 0 1\n",
      " 3 2 2 3 6 2 2 3 5 6 1 3 2 3 5 1 0 1 6 2 3 2 2 1 4 2 6 2 0 3 3 3 1 3 1 2 6\n",
      " 6 5 3 6 3 1 4 5 4 1 3 3 3 1 2 1 2 0 2 6 6 3 2 3 6 2 1 0 6 0 0 3 1 3 2 5 5\n",
      " 2 5 2 1 2 0 1 1 2 1 2 2 3 2 5 3 2 1 1 5 6 1 5 3 1 1 4 6 2 1 1 1 3 2 2 3 1\n",
      " 2 4 2 3 4 3 5 1 0 1 5 2 1 4 1 6 3 4 1 1 2 1 4 4 6 2 3 2 3 2 1 0 6 0 1 6 5\n",
      " 2 0 2 3 2 0 0 1 4 3 3 3 2 1 4 2 1 2 6 6 3 1 4 4 6 1 2 5 0 6 2 3 4 1 5 3 3\n",
      " 2 4 3 1 4 6 1 5 5 4 1 3 0 3 1 3 6 0 3 2 1 5 2 1 2 1 3 2 4 3 2 2 1 2 4 1 6\n",
      " 6 5 5 2 2 2 3 1 1 2 4 1 5 4 3 4 3 2 5 2 5 1 2 6 3 6 3 1 6 3 1 0 3 2 6 2 2\n",
      " 1 3 1 2 4 4 2 1 1 4 3 3 2 6 3 1 1 1 2 6 1 2 5 3 1 4 4 2 3 0 1 2 3 2 2 6 1\n",
      " 1 3 2 2 4 3 4 2 3 5 1 3 0 3 3 2 2 5 2 1 1 4 5 2 3 0 3 3 4 1 2 2 1 0 1 2 3\n",
      " 1 6 6 6 0 2 5 6 5 2 4 3 2 1 0 2 1 1 2 6 2 3 1 1 1 4 1 2 6 2 5 1 3 3 6 6 4\n",
      " 2 3 1 2 5 3 2 1 0 1 3 6 2 1 4 2 3 4 1 3 4 1 3 6 2 3 6 5 0 4 4 1 6 2 5 5 4\n",
      " 6 1 2 5 5 6 2 1 1 5 1 1 6 2 1 2 2 2 1 1 5 2 5 2 4 2 0 3 0 5 4 3 2 6 2 3 6\n",
      " 3 2 3 2 1 1 6 5 4 1 3 3 4 2 2 3 5 2 3 6 3 5 5 4 3 1 4 5 1 1 3 1 4 4]\n"
     ]
    }
   ],
   "source": [
    "y_predict = classifier.predict(x_test)\n",
    "pickle.dump(classifier,open(\"bayes.pkl\", \"wb\"))\n",
    "print(y_predict)"
   ]
  },
  {
   "cell_type": "code",
   "execution_count": 23,
   "id": "60da1ff4-f949-4b2b-8986-a379272a2567",
   "metadata": {},
   "outputs": [
    {
     "data": {
      "text/plain": [
       "array([[3, 3],\n",
       "       [4, 1],\n",
       "       [4, 4],\n",
       "       [3, 3],\n",
       "       [0, 4]], dtype=int8)"
      ]
     },
     "execution_count": 23,
     "metadata": {},
     "output_type": "execute_result"
    }
   ],
   "source": [
    "compare = np.vstack((y_test , y_predict)).T\n",
    "compare[:5,:]"
   ]
  },
  {
   "cell_type": "code",
   "execution_count": 24,
   "id": "7dedbfa6-1660-457d-8602-121538583f25",
   "metadata": {},
   "outputs": [
    {
     "name": "stdout",
     "output_type": "stream",
     "text": [
      "[[18 27 25 35  8  0 13]\n",
      " [ 6 45 22 17  0  3 12]\n",
      " [ 4 10 48 11  7 13  2]\n",
      " [ 1 28 20 36  7  0  9]\n",
      " [ 2  9 10  7 42  8  9]\n",
      " [ 2 12 25  7  6 31  6]\n",
      " [ 5 20 15 21  4  9 23]]\n"
     ]
    }
   ],
   "source": [
    "from sklearn.metrics import confusion_matrix\n",
    "cm = confusion_matrix(y_test , y_predict)\n",
    "print(cm)"
   ]
  },
  {
   "cell_type": "code",
   "execution_count": 25,
   "id": "48f11a67-80e4-4384-b427-3610059f854c",
   "metadata": {},
   "outputs": [
    {
     "name": "stdout",
     "output_type": "stream",
     "text": [
      "Correct Prediction :  243\n",
      "Incorrect Prediction :  457\n",
      "\n",
      "Accuracy :  0.35\n"
     ]
    }
   ],
   "source": [
    "true = 0\n",
    "false = 0\n",
    "\n",
    "for row in range(cm.shape[0]):\n",
    "    for col in range(cm.shape[1]):\n",
    "        if row == col:\n",
    "            true += cm[row , col]\n",
    "        else:\n",
    "            false += cm[row , col]\n",
    "            \n",
    "print('Correct Prediction : ',true)\n",
    "print('Incorrect Prediction : ',false)\n",
    "print('\\nAccuracy : ', (true / (cm.sum())).round(2))"
   ]
  },
  {
   "cell_type": "code",
   "execution_count": null,
   "id": "036cd088-d368-4180-a707-02b4f0b472f2",
   "metadata": {},
   "outputs": [],
   "source": []
  }
 ],
 "metadata": {
  "kernelspec": {
   "display_name": "Python 3 (ipykernel)",
   "language": "python",
   "name": "python3"
  },
  "language_info": {
   "codemirror_mode": {
    "name": "ipython",
    "version": 3
   },
   "file_extension": ".py",
   "mimetype": "text/x-python",
   "name": "python",
   "nbconvert_exporter": "python",
   "pygments_lexer": "ipython3",
   "version": "3.10.9"
  }
 },
 "nbformat": 4,
 "nbformat_minor": 5
}

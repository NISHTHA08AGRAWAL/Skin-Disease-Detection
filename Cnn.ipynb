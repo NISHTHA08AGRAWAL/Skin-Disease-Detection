{
 "cells": [
  {
   "cell_type": "code",
   "execution_count": 22,
   "id": "decf5b53-d080-4d19-9864-1cbcd082a804",
   "metadata": {
    "tags": []
   },
   "outputs": [],
   "source": [
    "import numpy as np\n",
    "import pandas as pd\n",
    "import matplotlib.pyplot as plt\n",
    "import os\n",
    "from glob import glob\n",
    "import seaborn as sns\n",
    "from PIL import Image\n",
    "import warnings\n",
    "warnings.filterwarnings('ignore')\n",
    "\n",
    "from sklearn.utils import resample\n",
    "from keras.utils.np_utils import to_categorical\n",
    "from sklearn.model_selection import train_test_split\n",
    "\n",
    "import tensorflow as tf\n",
    "from keras.models import Sequential\n",
    "from keras.layers import Dense, Dropout, Flatten, Conv2D, MaxPool2D\n",
    "from keras.preprocessing.image import ImageDataGenerator\n",
    "from keras import backend as K\n",
    "from keras.optimizers import Adam\n",
    "import pickle"
   ]
  },
  {
   "cell_type": "code",
   "execution_count": 2,
   "id": "7931257f-e13c-47b5-b17c-9dd2b2e676b5",
   "metadata": {
    "tags": []
   },
   "outputs": [],
   "source": [
    "# Initializing the path of the working directory\n",
    "base_dir = r\"C:\\Users\\MSI\\Documents\\MiniProject\"\n",
    "\n",
    "# Mapping the image id with their path so that it can be referred easily\n",
    "imageid_path_dict = {os.path.splitext(os.path.basename(x))[0]: x \n",
    "                     for x in glob(os.path.join(base_dir, 'sample', '*.jpg'))}\n",
    "\n",
    "# This dictionary is useful for displaying more human-friendly labels later on\n",
    "lesion_type_dict = {\n",
    "    'nv': 'Melanocytic nevi',\n",
    "    'mel': 'Melanoma',\n",
    "    'bkl': 'Benign keratosis-like lesions ',\n",
    "    'bcc': 'Basal cell carcinoma',\n",
    "    'akiec': 'Actinic keratoses',\n",
    "    'vasc': 'Vascular lesions',\n",
    "    'df': 'Dermatofibroma'\n",
    "}\n"
   ]
  },
  {
   "cell_type": "code",
   "execution_count": 3,
   "id": "8c00fb0a-832c-4590-8376-2cabf61dd08a",
   "metadata": {
    "tags": []
   },
   "outputs": [],
   "source": [
    "# Reffering to the medadata having the information about all the images we have.\n",
    "skin_df = pd.read_csv(os.path.join(base_dir, 'HAM10000_metadata.csv'))\n",
    "\n",
    "# Creating New Columns path , cell_type and cell_type_idx for better readability\n",
    "\n",
    "# Keeping the path of the respected image\n",
    "skin_df['path'] = skin_df['image_id'].map(imageid_path_dict.get)\n",
    "\n",
    "# Keeping the human understable Name with the respected name\n",
    "skin_df['cell_type'] = skin_df['dx'].map(lesion_type_dict.get)\n",
    "\n",
    "# Keeping the index of the cell_type of the dict\n",
    "skin_df['cell_type_idx'] = pd.Categorical(skin_df['cell_type']).codes"
   ]
  },
  {
   "cell_type": "code",
   "execution_count": 4,
   "id": "0d774659-47d5-4cd2-baab-b6b255a6f577",
   "metadata": {
    "tags": []
   },
   "outputs": [
    {
     "data": {
      "text/plain": [
       "Melanocytic nevi                  6705\n",
       "Melanoma                          1113\n",
       "Benign keratosis-like lesions     1099\n",
       "Basal cell carcinoma               514\n",
       "Actinic keratoses                  327\n",
       "Vascular lesions                   142\n",
       "Dermatofibroma                     115\n",
       "Name: cell_type, dtype: int64"
      ]
     },
     "execution_count": 4,
     "metadata": {},
     "output_type": "execute_result"
    }
   ],
   "source": [
    "skin_df['cell_type'].value_counts()"
   ]
  },
  {
   "cell_type": "code",
   "execution_count": 5,
   "id": "72f4fa7d-a21b-4094-8335-2edad48bb56e",
   "metadata": {
    "tags": []
   },
   "outputs": [
    {
     "data": {
      "text/html": [
       "<div>\n",
       "<style scoped>\n",
       "    .dataframe tbody tr th:only-of-type {\n",
       "        vertical-align: middle;\n",
       "    }\n",
       "\n",
       "    .dataframe tbody tr th {\n",
       "        vertical-align: top;\n",
       "    }\n",
       "\n",
       "    .dataframe thead th {\n",
       "        text-align: right;\n",
       "    }\n",
       "</style>\n",
       "<table border=\"1\" class=\"dataframe\">\n",
       "  <thead>\n",
       "    <tr style=\"text-align: right;\">\n",
       "      <th></th>\n",
       "      <th>lesion_id</th>\n",
       "      <th>image_id</th>\n",
       "      <th>dx</th>\n",
       "      <th>dx_type</th>\n",
       "      <th>age</th>\n",
       "      <th>sex</th>\n",
       "      <th>localization</th>\n",
       "      <th>dataset</th>\n",
       "      <th>path</th>\n",
       "      <th>cell_type</th>\n",
       "      <th>cell_type_idx</th>\n",
       "    </tr>\n",
       "  </thead>\n",
       "  <tbody>\n",
       "    <tr>\n",
       "      <th>0</th>\n",
       "      <td>HAM_0000118</td>\n",
       "      <td>ISIC_0027419</td>\n",
       "      <td>bkl</td>\n",
       "      <td>histo</td>\n",
       "      <td>80.0</td>\n",
       "      <td>male</td>\n",
       "      <td>scalp</td>\n",
       "      <td>vidir_modern</td>\n",
       "      <td>C:\\Users\\MSI\\Documents\\MiniProject\\sample\\ISIC...</td>\n",
       "      <td>Benign keratosis-like lesions</td>\n",
       "      <td>2</td>\n",
       "    </tr>\n",
       "    <tr>\n",
       "      <th>1</th>\n",
       "      <td>HAM_0000118</td>\n",
       "      <td>ISIC_0025030</td>\n",
       "      <td>bkl</td>\n",
       "      <td>histo</td>\n",
       "      <td>80.0</td>\n",
       "      <td>male</td>\n",
       "      <td>scalp</td>\n",
       "      <td>vidir_modern</td>\n",
       "      <td>C:\\Users\\MSI\\Documents\\MiniProject\\sample\\ISIC...</td>\n",
       "      <td>Benign keratosis-like lesions</td>\n",
       "      <td>2</td>\n",
       "    </tr>\n",
       "    <tr>\n",
       "      <th>2</th>\n",
       "      <td>HAM_0002730</td>\n",
       "      <td>ISIC_0026769</td>\n",
       "      <td>bkl</td>\n",
       "      <td>histo</td>\n",
       "      <td>80.0</td>\n",
       "      <td>male</td>\n",
       "      <td>scalp</td>\n",
       "      <td>vidir_modern</td>\n",
       "      <td>C:\\Users\\MSI\\Documents\\MiniProject\\sample\\ISIC...</td>\n",
       "      <td>Benign keratosis-like lesions</td>\n",
       "      <td>2</td>\n",
       "    </tr>\n",
       "    <tr>\n",
       "      <th>3</th>\n",
       "      <td>HAM_0002730</td>\n",
       "      <td>ISIC_0025661</td>\n",
       "      <td>bkl</td>\n",
       "      <td>histo</td>\n",
       "      <td>80.0</td>\n",
       "      <td>male</td>\n",
       "      <td>scalp</td>\n",
       "      <td>vidir_modern</td>\n",
       "      <td>C:\\Users\\MSI\\Documents\\MiniProject\\sample\\ISIC...</td>\n",
       "      <td>Benign keratosis-like lesions</td>\n",
       "      <td>2</td>\n",
       "    </tr>\n",
       "    <tr>\n",
       "      <th>4</th>\n",
       "      <td>HAM_0001466</td>\n",
       "      <td>ISIC_0031633</td>\n",
       "      <td>bkl</td>\n",
       "      <td>histo</td>\n",
       "      <td>75.0</td>\n",
       "      <td>male</td>\n",
       "      <td>ear</td>\n",
       "      <td>vidir_modern</td>\n",
       "      <td>C:\\Users\\MSI\\Documents\\MiniProject\\sample\\ISIC...</td>\n",
       "      <td>Benign keratosis-like lesions</td>\n",
       "      <td>2</td>\n",
       "    </tr>\n",
       "  </tbody>\n",
       "</table>\n",
       "</div>"
      ],
      "text/plain": [
       "     lesion_id      image_id   dx dx_type   age   sex localization  \\\n",
       "0  HAM_0000118  ISIC_0027419  bkl   histo  80.0  male        scalp   \n",
       "1  HAM_0000118  ISIC_0025030  bkl   histo  80.0  male        scalp   \n",
       "2  HAM_0002730  ISIC_0026769  bkl   histo  80.0  male        scalp   \n",
       "3  HAM_0002730  ISIC_0025661  bkl   histo  80.0  male        scalp   \n",
       "4  HAM_0001466  ISIC_0031633  bkl   histo  75.0  male          ear   \n",
       "\n",
       "        dataset                                               path  \\\n",
       "0  vidir_modern  C:\\Users\\MSI\\Documents\\MiniProject\\sample\\ISIC...   \n",
       "1  vidir_modern  C:\\Users\\MSI\\Documents\\MiniProject\\sample\\ISIC...   \n",
       "2  vidir_modern  C:\\Users\\MSI\\Documents\\MiniProject\\sample\\ISIC...   \n",
       "3  vidir_modern  C:\\Users\\MSI\\Documents\\MiniProject\\sample\\ISIC...   \n",
       "4  vidir_modern  C:\\Users\\MSI\\Documents\\MiniProject\\sample\\ISIC...   \n",
       "\n",
       "                        cell_type  cell_type_idx  \n",
       "0  Benign keratosis-like lesions               2  \n",
       "1  Benign keratosis-like lesions               2  \n",
       "2  Benign keratosis-like lesions               2  \n",
       "3  Benign keratosis-like lesions               2  \n",
       "4  Benign keratosis-like lesions               2  "
      ]
     },
     "execution_count": 5,
     "metadata": {},
     "output_type": "execute_result"
    }
   ],
   "source": [
    "skin_df.head()"
   ]
  },
  {
   "cell_type": "code",
   "execution_count": 6,
   "id": "db82ac3e-3c24-48f8-8dec-cba6278d8979",
   "metadata": {
    "tags": []
   },
   "outputs": [
    {
     "data": {
      "text/plain": [
       "lesion_id         0\n",
       "image_id          0\n",
       "dx                0\n",
       "dx_type           0\n",
       "age              57\n",
       "sex               0\n",
       "localization      0\n",
       "dataset           0\n",
       "path              0\n",
       "cell_type         0\n",
       "cell_type_idx     0\n",
       "dtype: int64"
      ]
     },
     "execution_count": 6,
     "metadata": {},
     "output_type": "execute_result"
    }
   ],
   "source": [
    "skin_df.isnull().sum()"
   ]
  },
  {
   "cell_type": "code",
   "execution_count": 7,
   "id": "62ff470e-93d5-4bf6-a677-52c6dc176312",
   "metadata": {
    "tags": []
   },
   "outputs": [],
   "source": [
    "skin_df['age'].fillna((skin_df['age'].mean()) , inplace = True)"
   ]
  },
  {
   "cell_type": "code",
   "execution_count": 8,
   "id": "c5d7d391-9f1f-4eaf-abd1-2de315917bc9",
   "metadata": {
    "tags": []
   },
   "outputs": [
    {
     "data": {
      "text/plain": [
       "lesion_id        0\n",
       "image_id         0\n",
       "dx               0\n",
       "dx_type          0\n",
       "age              0\n",
       "sex              0\n",
       "localization     0\n",
       "dataset          0\n",
       "path             0\n",
       "cell_type        0\n",
       "cell_type_idx    0\n",
       "dtype: int64"
      ]
     },
     "execution_count": 8,
     "metadata": {},
     "output_type": "execute_result"
    }
   ],
   "source": [
    "skin_df.isnull().sum()"
   ]
  },
  {
   "cell_type": "code",
   "execution_count": 9,
   "id": "05b22876-dc98-4616-bee7-c99db17ae254",
   "metadata": {
    "tags": []
   },
   "outputs": [],
   "source": [
    "cell_type_idx = 'cell_type_idx'\n",
    "record_0 = skin_df[skin_df[cell_type_idx] == 0]\n",
    "record_1 = skin_df[skin_df[cell_type_idx] == 1]\n",
    "record_2 = skin_df[skin_df[cell_type_idx] == 2]\n",
    "record_3 = skin_df[skin_df[cell_type_idx] == 3]\n",
    "record_4 = skin_df[skin_df[cell_type_idx] == 4]\n",
    "record_5 = skin_df[skin_df[cell_type_idx] == 5]\n",
    "record_6 = skin_df[skin_df[cell_type_idx] == 6]"
   ]
  },
  {
   "cell_type": "code",
   "execution_count": 10,
   "id": "6203fb86-8f88-4cbe-85f0-897a3b91f130",
   "metadata": {
    "tags": []
   },
   "outputs": [],
   "source": [
    "n = 500\n",
    "record_bal_0 = resample(record_0 , replace = True , n_samples = n , random_state = 42)\n",
    "record_bal_1 = resample(record_1 , replace = True , n_samples = n , random_state = 42)\n",
    "record_bal_2 = resample(record_2 , replace = True , n_samples = n , random_state = 42)\n",
    "record_bal_3 = resample(record_3 , replace = True , n_samples = n , random_state = 42)\n",
    "record_bal_4 = resample(record_4 , replace = True , n_samples = n , random_state = 42)\n",
    "record_bal_5 = resample(record_5 , replace = True , n_samples = n , random_state = 42)\n",
    "record_bal_6 = resample(record_6 , replace = True , n_samples = n , random_state = 42)"
   ]
  },
  {
   "cell_type": "code",
   "execution_count": 11,
   "id": "bec02f9a-99dc-4c2e-9339-d4e77016ae5a",
   "metadata": {
    "tags": []
   },
   "outputs": [],
   "source": [
    "balance_record = pd.concat([record_bal_0 , record_bal_1 , record_bal_2 , record_bal_3 , record_bal_4 , record_bal_5 , record_bal_6])"
   ]
  },
  {
   "cell_type": "code",
   "execution_count": 12,
   "id": "8aead4e0-d914-484e-845f-8aa7bd8642ab",
   "metadata": {
    "tags": []
   },
   "outputs": [],
   "source": [
    "balance_record['image'] = balance_record['path'].map(lambda x: np.asarray(Image.open(x).resize((64,64))))"
   ]
  },
  {
   "cell_type": "code",
   "execution_count": 13,
   "id": "4ca4c3cd-5fee-4f06-ac27-023667570137",
   "metadata": {
    "tags": []
   },
   "outputs": [],
   "source": [
    "X = np.asarray(balance_record['image'].tolist())"
   ]
  },
  {
   "cell_type": "code",
   "execution_count": 14,
   "id": "b3650798-60b9-4282-acb0-550949d1bf65",
   "metadata": {
    "tags": []
   },
   "outputs": [],
   "source": [
    "Y = balance_record['cell_type_idx']"
   ]
  },
  {
   "cell_type": "code",
   "execution_count": 15,
   "id": "0099208a-a5d1-45eb-8b0b-e4cecc9e2970",
   "metadata": {
    "tags": []
   },
   "outputs": [],
   "source": [
    "Y_cat = to_categorical(Y)"
   ]
  },
  {
   "cell_type": "code",
   "execution_count": 16,
   "id": "b5a00a92-3b63-469d-8ed2-0df340246d7b",
   "metadata": {
    "tags": []
   },
   "outputs": [],
   "source": [
    "x_train, x_test, y_train, y_test = train_test_split(X, Y_cat, test_size=0.20,random_state=42)"
   ]
  },
  {
   "cell_type": "code",
   "execution_count": 17,
   "id": "928715d4",
   "metadata": {},
   "outputs": [],
   "source": [
    "x_train_mean = np.mean(x_train)\n",
    "x_test_mean = np.mean(x_test)\n",
    "\n",
    "x_train_std = np.std(x_train)\n",
    "x_test_std = np.std(x_test)\n",
    "\n",
    "x_train = (x_train - x_train_mean) / x_train_std\n",
    "x_test = (x_test - x_test_mean) / x_test_std"
   ]
  },
  {
   "cell_type": "code",
   "execution_count": 18,
   "id": "c52b65e9-3c84-4da8-9db8-6806c6cf2a5d",
   "metadata": {
    "tags": []
   },
   "outputs": [
    {
     "name": "stdout",
     "output_type": "stream",
     "text": [
      "Model: \"sequential\"\n",
      "_________________________________________________________________\n",
      " Layer (type)                Output Shape              Param #   \n",
      "=================================================================\n",
      " conv2d (Conv2D)             (None, 64, 64, 256)       7168      \n",
      "                                                                 \n",
      " max_pooling2d (MaxPooling2D  (None, 32, 32, 256)      0         \n",
      " )                                                               \n",
      "                                                                 \n",
      " dropout (Dropout)           (None, 32, 32, 256)       0         \n",
      "                                                                 \n",
      " conv2d_1 (Conv2D)           (None, 30, 30, 128)       295040    \n",
      "                                                                 \n",
      " max_pooling2d_1 (MaxPooling  (None, 15, 15, 128)      0         \n",
      " 2D)                                                             \n",
      "                                                                 \n",
      " dropout_1 (Dropout)         (None, 15, 15, 128)       0         \n",
      "                                                                 \n",
      " conv2d_2 (Conv2D)           (None, 13, 13, 64)        73792     \n",
      "                                                                 \n",
      " max_pooling2d_2 (MaxPooling  (None, 6, 6, 64)         0         \n",
      " 2D)                                                             \n",
      "                                                                 \n",
      " dropout_2 (Dropout)         (None, 6, 6, 64)          0         \n",
      "                                                                 \n",
      " flatten (Flatten)           (None, 2304)              0         \n",
      "                                                                 \n",
      " dense (Dense)               (None, 32)                73760     \n",
      "                                                                 \n",
      " dense_1 (Dense)             (None, 7)                 231       \n",
      "                                                                 \n",
      "=================================================================\n",
      "Total params: 449,991\n",
      "Trainable params: 449,991\n",
      "Non-trainable params: 0\n",
      "_________________________________________________________________\n"
     ]
    }
   ],
   "source": [
    "input_shape = (64 , 64 , 3)\n",
    "\n",
    "model = Sequential()\n",
    "model.add(Conv2D(256, kernel_size=(3, 3),activation='relu',padding = 'Same',input_shape=input_shape))\n",
    "model.add(MaxPool2D(pool_size = (2, 2)))\n",
    "model.add(Dropout(0.3))\n",
    "\n",
    "model.add(Conv2D(128, kernel_size=(3, 3),activation='relu'))\n",
    "model.add(MaxPool2D(pool_size = (2, 2)))\n",
    "model.add(Dropout(0.3))\n",
    "\n",
    "model.add(Conv2D(64, kernel_size=(3, 3),activation='relu'))\n",
    "model.add(MaxPool2D(pool_size = (2, 2)))\n",
    "model.add(Dropout(0.3))\n",
    "model.add(Flatten())\n",
    "\n",
    "model.add(Dense(32, activation='relu'))\n",
    "model.add(Dense(7, activation='softmax'))\n",
    "model.summary()"
   ]
  },
  {
   "cell_type": "code",
   "execution_count": 19,
   "id": "afc4f932-cc27-4eb5-a63b-e3e3dc899e41",
   "metadata": {
    "tags": []
   },
   "outputs": [],
   "source": [
    "model.compile(optimizer='adam' , loss='categorical_crossentropy' , metrics=['accuracy'])"
   ]
  },
  {
   "cell_type": "code",
   "execution_count": 23,
   "id": "bd65eb6c-6b97-49c9-b47c-c2e3d4083ece",
   "metadata": {},
   "outputs": [],
   "source": [
    "datagen = ImageDataGenerator(\n",
    "        featurewise_center=False,  # set input mean to 0 over the dataset\n",
    "        samplewise_center=False,  # set each sample mean to 0\n",
    "        featurewise_std_normalization=False,  # divide inputs by std of the dataset\n",
    "        samplewise_std_normalization=False,  # divide each input by its std\n",
    "        zca_whitening=False,  # apply ZCA whitening\n",
    "        rotation_range=10,  # randomly rotate images in the range (degrees, 0 to 180)\n",
    "        zoom_range = 0.1, # Randomly zoom image \n",
    "        width_shift_range=0.1,  # randomly shift images horizontally (fraction of total width)\n",
    "        height_shift_range=0.1,  # randomly shift images vertically (fraction of total height)\n",
    "        horizontal_flip=True,  # randomly flip images\n",
    "        vertical_flip=True)  # randomly flip images\n",
    "\n",
    "datagen.fit(x_train)"
   ]
  },
  {
   "cell_type": "code",
   "execution_count": null,
   "id": "b2e0a452-cbe8-41b1-b86f-c1211dbdcab8",
   "metadata": {
    "tags": []
   },
   "outputs": [
    {
     "name": "stdout",
     "output_type": "stream",
     "text": [
      "Epoch 1/50\n",
      "175/175 [==============================] - 72s 405ms/step - loss: 1.7801 - accuracy: 0.2871 - val_loss: 1.5501 - val_accuracy: 0.3843\n",
      "Epoch 2/50\n",
      "175/175 [==============================] - 70s 397ms/step - loss: 1.5851 - accuracy: 0.3818 - val_loss: 1.4931 - val_accuracy: 0.4100\n",
      "Epoch 3/50\n",
      "175/175 [==============================] - 74s 425ms/step - loss: 1.4536 - accuracy: 0.4179 - val_loss: 1.4054 - val_accuracy: 0.4543\n",
      "Epoch 4/50\n",
      "175/175 [==============================] - 70s 402ms/step - loss: 1.3835 - accuracy: 0.4568 - val_loss: 1.3147 - val_accuracy: 0.5043\n",
      "Epoch 5/50\n",
      "175/175 [==============================] - 72s 413ms/step - loss: 1.2999 - accuracy: 0.4775 - val_loss: 1.2684 - val_accuracy: 0.4729\n",
      "Epoch 6/50\n",
      "175/175 [==============================] - 69s 395ms/step - loss: 1.2414 - accuracy: 0.5068 - val_loss: 1.1631 - val_accuracy: 0.5686\n",
      "Epoch 7/50\n",
      "175/175 [==============================] - 70s 400ms/step - loss: 1.1970 - accuracy: 0.5336 - val_loss: 1.2004 - val_accuracy: 0.5571\n",
      "Epoch 8/50\n",
      "175/175 [==============================] - 73s 414ms/step - loss: 1.1601 - accuracy: 0.5489 - val_loss: 1.1148 - val_accuracy: 0.5800\n",
      "Epoch 9/50\n",
      "175/175 [==============================] - 75s 427ms/step - loss: 1.1432 - accuracy: 0.5614 - val_loss: 1.1203 - val_accuracy: 0.5786\n",
      "Epoch 10/50\n",
      "175/175 [==============================] - 79s 448ms/step - loss: 1.0928 - accuracy: 0.5689 - val_loss: 1.0433 - val_accuracy: 0.6071\n",
      "Epoch 11/50\n",
      "175/175 [==============================] - 85s 482ms/step - loss: 1.0756 - accuracy: 0.5818 - val_loss: 1.0528 - val_accuracy: 0.5957\n",
      "Epoch 12/50\n",
      "175/175 [==============================] - 75s 431ms/step - loss: 1.0730 - accuracy: 0.5950 - val_loss: 1.0725 - val_accuracy: 0.5957\n",
      "Epoch 13/50\n",
      "175/175 [==============================] - 74s 420ms/step - loss: 1.0188 - accuracy: 0.6075 - val_loss: 0.9857 - val_accuracy: 0.6457\n",
      "Epoch 14/50\n",
      "175/175 [==============================] - 75s 431ms/step - loss: 0.9930 - accuracy: 0.6204 - val_loss: 1.0003 - val_accuracy: 0.6429\n",
      "Epoch 15/50\n",
      "175/175 [==============================] - 80s 459ms/step - loss: 0.9873 - accuracy: 0.6189 - val_loss: 0.9943 - val_accuracy: 0.6214\n",
      "Epoch 16/50\n",
      "175/175 [==============================] - 88s 501ms/step - loss: 0.9762 - accuracy: 0.6261 - val_loss: 0.9572 - val_accuracy: 0.6400\n",
      "Epoch 17/50\n",
      "175/175 [==============================] - 78s 444ms/step - loss: 0.9536 - accuracy: 0.6321 - val_loss: 0.9843 - val_accuracy: 0.6157\n",
      "Epoch 18/50\n",
      "175/175 [==============================] - 84s 480ms/step - loss: 0.9356 - accuracy: 0.6443 - val_loss: 0.9634 - val_accuracy: 0.6486\n",
      "Epoch 19/50\n",
      "175/175 [==============================] - 80s 455ms/step - loss: 0.9305 - accuracy: 0.6461 - val_loss: 0.8774 - val_accuracy: 0.6814\n",
      "Epoch 20/50\n",
      "175/175 [==============================] - 72s 411ms/step - loss: 0.8876 - accuracy: 0.6507 - val_loss: 0.8754 - val_accuracy: 0.6671\n",
      "Epoch 21/50\n",
      "175/175 [==============================] - 76s 433ms/step - loss: 0.8768 - accuracy: 0.6650 - val_loss: 0.8570 - val_accuracy: 0.7014\n",
      "Epoch 22/50\n",
      "175/175 [==============================] - 77s 437ms/step - loss: 0.8596 - accuracy: 0.6786 - val_loss: 0.8972 - val_accuracy: 0.6900\n",
      "Epoch 23/50\n",
      "175/175 [==============================] - 78s 445ms/step - loss: 0.8534 - accuracy: 0.6739 - val_loss: 0.9251 - val_accuracy: 0.6914\n",
      "Epoch 24/50\n",
      "175/175 [==============================] - 75s 429ms/step - loss: 0.8561 - accuracy: 0.6764 - val_loss: 0.8370 - val_accuracy: 0.6886\n",
      "Epoch 25/50\n",
      "175/175 [==============================] - 73s 419ms/step - loss: 0.8505 - accuracy: 0.6818 - val_loss: 0.8300 - val_accuracy: 0.6900\n",
      "Epoch 26/50\n",
      "175/175 [==============================] - 74s 424ms/step - loss: 0.8381 - accuracy: 0.6868 - val_loss: 0.8886 - val_accuracy: 0.7043\n",
      "Epoch 27/50\n",
      "175/175 [==============================] - 80s 457ms/step - loss: 0.8259 - accuracy: 0.6861 - val_loss: 0.8320 - val_accuracy: 0.6914\n",
      "Epoch 28/50\n",
      "175/175 [==============================] - 82s 466ms/step - loss: 0.8110 - accuracy: 0.6907 - val_loss: 0.8930 - val_accuracy: 0.6914\n",
      "Epoch 29/50\n",
      "175/175 [==============================] - 84s 478ms/step - loss: 0.8199 - accuracy: 0.6957 - val_loss: 0.8932 - val_accuracy: 0.6657\n",
      "Epoch 30/50\n",
      "175/175 [==============================] - 81s 465ms/step - loss: 0.7906 - accuracy: 0.7032 - val_loss: 0.8422 - val_accuracy: 0.7043\n",
      "Epoch 31/50\n",
      "175/175 [==============================] - 87s 499ms/step - loss: 0.8048 - accuracy: 0.7104 - val_loss: 0.8339 - val_accuracy: 0.7029\n",
      "Epoch 32/50\n",
      "175/175 [==============================] - 86s 490ms/step - loss: 0.7757 - accuracy: 0.6961 - val_loss: 0.8380 - val_accuracy: 0.7157\n",
      "Epoch 33/50\n",
      "175/175 [==============================] - 81s 464ms/step - loss: 0.7877 - accuracy: 0.7054 - val_loss: 0.8124 - val_accuracy: 0.6943\n",
      "Epoch 34/50\n",
      "175/175 [==============================] - 76s 435ms/step - loss: 0.7907 - accuracy: 0.6964 - val_loss: 0.8689 - val_accuracy: 0.6814\n",
      "Epoch 35/50\n",
      "175/175 [==============================] - 85s 487ms/step - loss: 0.7620 - accuracy: 0.7146 - val_loss: 0.7759 - val_accuracy: 0.7257\n",
      "Epoch 36/50\n",
      "175/175 [==============================] - 83s 475ms/step - loss: 0.7170 - accuracy: 0.7311 - val_loss: 0.7721 - val_accuracy: 0.7057\n",
      "Epoch 37/50\n",
      "175/175 [==============================] - 84s 478ms/step - loss: 0.7451 - accuracy: 0.7229 - val_loss: 0.9162 - val_accuracy: 0.6814\n",
      "Epoch 38/50\n",
      "175/175 [==============================] - 85s 487ms/step - loss: 0.7420 - accuracy: 0.7225 - val_loss: 0.7483 - val_accuracy: 0.7229\n",
      "Epoch 39/50\n",
      "175/175 [==============================] - 83s 473ms/step - loss: 0.7235 - accuracy: 0.7282 - val_loss: 0.7644 - val_accuracy: 0.7357\n",
      "Epoch 40/50\n",
      "175/175 [==============================] - 86s 489ms/step - loss: 0.7012 - accuracy: 0.7379 - val_loss: 0.7332 - val_accuracy: 0.7257\n",
      "Epoch 41/50\n",
      "175/175 [==============================] - 89s 508ms/step - loss: 0.7238 - accuracy: 0.7218 - val_loss: 0.7671 - val_accuracy: 0.7329\n",
      "Epoch 42/50\n",
      "175/175 [==============================] - 82s 471ms/step - loss: 0.7133 - accuracy: 0.7321 - val_loss: 0.7596 - val_accuracy: 0.7243\n",
      "Epoch 43/50\n",
      " 13/175 [=>............................] - ETA: 1:33 - loss: 0.7644 - accuracy: 0.6731"
     ]
    }
   ],
   "source": [
    "epochs = 50\n",
    "batch_size = 16\n",
    "history = model.fit(datagen.flow(x_train , y_train  , batch_size = batch_size) , epochs = epochs , validation_data=(x_test , y_test) , verbose = 1)"
   ]
  },
  {
   "cell_type": "code",
   "execution_count": 22,
   "id": "55da9986-b067-45d8-b776-c10c4a05b7d5",
   "metadata": {
    "tags": []
   },
   "outputs": [
    {
     "name": "stdout",
     "output_type": "stream",
     "text": [
      "22/22 [==============================] - 5s 216ms/step - loss: 1.3236 - accuracy: 0.8286\n",
      "Test: accuracy = 0.828571  ;  loss = 1.323605\n"
     ]
    }
   ],
   "source": [
    "loss, accuracy = model.evaluate(x_test, y_test, verbose=1)\n",
    "print(\"Test: accuracy = %f  ;  loss = %f\" % (accuracy, loss))\n",
    "model.save(\"cnn2.h5\")"
   ]
  },
  {
   "cell_type": "code",
   "execution_count": 23,
   "id": "e0cbcc77-18f6-46f5-ae45-6d35da5740a9",
   "metadata": {
    "tags": []
   },
   "outputs": [],
   "source": [
    "#1. Function to plot model's validation loss and validation accuracy\n",
    "def plot_model_history(model_history):\n",
    "    fig, axs = plt.subplots(1,2,figsize=(15,5))\n",
    "    # summarize history for accuracy\n",
    "    axs[0].plot(range(1,len(model_history.history['accuracy'])+1),model_history.history['accuracy'])\n",
    "    axs[0].plot(range(1,len(model_history.history['val_accuracy'])+1),model_history.history['val_accuracy'])\n",
    "    axs[0].set_title('Model Accuracy')\n",
    "    axs[0].set_ylabel('Accuracy')\n",
    "    axs[0].set_xlabel('Epoch')\n",
    "    axs[0].set_xticks(np.arange(1,len(model_history.history['accuracy'])+1, len(model_history.history['accuracy'])/10))\n",
    "    axs[0].legend(['train', 'val'], loc='best')\n",
    "    # summarize history for loss\n",
    "    axs[1].plot(range(1,len(model_history.history['loss'])+1),model_history.history['loss'])\n",
    "    axs[1].plot(range(1,len(model_history.history['val_loss'])+1),model_history.history['val_loss'])\n",
    "    axs[1].set_title('Model Loss')\n",
    "    axs[1].set_ylabel('Loss')\n",
    "    axs[1].set_xlabel('Epoch')\n",
    "   #  axs[1].set_xticks(np.arange(1,len(model_history.history['loss'])+1),len(model_history.history['loss'])/10)\n",
    "    axs[1].set_xticks(np.arange(1,len(model_history.history['loss'])+1, len(model_history.history['loss'])/10))\n",
    "\n",
    "    axs[1].legend(['train', 'val'], loc='best')\n",
    "    plt.show()"
   ]
  },
  {
   "cell_type": "code",
   "execution_count": 24,
   "id": "f0a4ebbe-f6ec-465f-88c7-02a6dc4f77f5",
   "metadata": {
    "tags": []
   },
   "outputs": [
    {
     "data": {
      "image/png": "[encoded data removed]",
      "text/plain": [
       "<Figure size 1500x500 with 2 Axes>"
      ]
     },
     "metadata": {},
     "output_type": "display_data"
    }
   ],
   "source": [
    "plot_model_history(history)"
   ]
  },
  {
   "cell_type": "code",
   "execution_count": 25,
   "id": "875067eb-5ad8-4a03-8777-41790a9c7242",
   "metadata": {
    "tags": []
   },
   "outputs": [
    {
     "name": "stdout",
     "output_type": "stream",
     "text": [
      "22/22 [==============================] - 5s 227ms/step\n"
     ]
    }
   ],
   "source": [
    "prediction = model.predict(x_test)"
   ]
  },
  {
   "cell_type": "code",
   "execution_count": 26,
   "id": "5a96ae97-f65b-42c8-b420-8263acb6ce05",
   "metadata": {
    "tags": []
   },
   "outputs": [],
   "source": [
    "y_predict_classes = np.argmax(prediction , axis=1)"
   ]
  },
  {
   "cell_type": "code",
   "execution_count": 27,
   "id": "9b304405-9b5a-4394-9f84-419ccdfbf083",
   "metadata": {
    "tags": []
   },
   "outputs": [
    {
     "data": {
      "text/plain": [
       "array([3, 4, 4, 3, 0, 5, 3, 3, 5, 0, 3, 5, 6, 5, 1, 4, 1, 0, 6, 5, 0, 3,\n",
       "       5, 3, 2, 5, 1, 1, 3, 6, 6, 3, 5, 1, 6, 6, 0, 0, 1, 4, 3, 6, 1, 4,\n",
       "       4, 0, 3, 3, 1, 2, 0, 4, 5, 6, 2, 0, 5, 0, 4, 3, 6, 5, 1, 0, 3, 6,\n",
       "       0, 3, 5, 5, 2, 1, 2, 2, 1, 4, 6, 5, 6, 3, 6, 6, 6, 6, 5, 5, 2, 0,\n",
       "       1, 0, 2, 6, 1, 5, 6, 5, 0, 5, 3, 1, 0, 4, 2, 2, 2, 0, 6, 6, 1, 0,\n",
       "       0, 1, 0, 2, 4, 1, 6, 2, 2, 3, 1, 2, 6, 2, 1, 1, 4, 3, 1, 0, 3, 0,\n",
       "       0, 6, 5, 4, 6, 6, 1, 3, 2, 6, 4, 3, 5, 5, 5, 1, 4, 0, 0, 4, 4, 1,\n",
       "       5, 2, 0, 3, 5, 3, 5, 5, 4, 4, 2, 1, 2, 0, 4, 3, 3, 2, 0, 2, 3, 6,\n",
       "       1, 5, 1, 6, 6, 2, 2, 0, 2, 2, 2, 3, 3, 5, 4, 5, 6, 2, 4, 6, 2, 3,\n",
       "       2, 0, 2, 0, 3, 5, 0, 5, 5, 6, 6, 4, 4, 0, 6, 6, 6, 6, 2, 4, 0, 4,\n",
       "       2, 1, 0, 1, 5, 3, 6, 2, 3, 3, 2, 3, 1, 6, 1, 3, 2, 3, 0, 1, 1, 0,\n",
       "       1, 0, 3, 3, 4, 1, 6, 3, 2, 6, 3, 0, 1, 3, 1, 2, 1, 3, 2, 0, 5, 2,\n",
       "       6, 4, 1, 4, 0, 1, 6, 3, 0, 1, 0, 0, 0, 6, 5, 3, 2, 3, 0, 6, 0, 1,\n",
       "       0, 4, 1, 6, 5, 1, 3, 4, 4, 5, 5, 1, 2, 3, 0, 0, 1, 6, 2, 1, 5, 3,\n",
       "       1, 5, 6, 6, 2, 0, 1, 6, 4, 1, 2, 0, 5, 6, 2, 4, 5, 0, 0, 3, 1, 1,\n",
       "       4, 1, 6, 4, 4, 5, 0, 2, 2, 1, 3, 0, 3, 2, 2, 0, 4, 3, 4, 2, 3, 6,\n",
       "       0, 3, 6, 4, 3, 4, 2, 3, 3, 1, 2, 0, 5, 6, 0, 1, 0, 2, 2, 6, 2, 3,\n",
       "       2, 5, 0, 0, 5, 3, 2, 0, 5, 3, 4, 2, 0, 4, 2, 2, 0, 2, 4, 4, 0, 2,\n",
       "       2, 4, 0, 0, 2, 5, 0, 3, 5, 3, 4, 5, 1, 3, 1, 4, 3, 2, 4, 2, 5, 0,\n",
       "       3, 1, 6, 6, 6, 6, 0, 2, 2, 4, 6, 2, 3, 5, 5, 0, 2, 0, 6, 1, 2, 0,\n",
       "       2, 4, 0, 2, 1, 5, 5, 3, 6, 6, 0, 3, 2, 1, 4, 6, 6, 2, 4, 5, 1, 0,\n",
       "       6, 2, 5, 0, 5, 0, 3, 6, 3, 5, 6, 6, 1, 0, 0, 2, 1, 2, 4, 1, 5, 6,\n",
       "       3, 3, 2, 4, 3, 0, 4, 1, 0, 2, 4, 3, 3, 5, 3, 2, 2, 0, 2, 2, 6, 1,\n",
       "       2, 3, 3, 0, 0, 3, 2, 4, 2, 1, 0, 0, 5, 5, 2, 3, 4, 1, 4, 0, 3, 5,\n",
       "       5, 2, 6, 6, 1, 0, 6, 2, 1, 0, 2, 0, 5, 4, 3, 0, 3, 4, 4, 2, 2, 0,\n",
       "       1, 2, 3, 5, 6, 3, 5, 1, 2, 3, 2, 2, 3, 5, 2, 5, 0, 3, 6, 0, 3, 3,\n",
       "       1, 5, 5, 1, 3, 1, 6, 2, 4, 3, 3, 6, 0, 6, 1, 0, 3, 5, 6, 4, 2, 3,\n",
       "       6, 2, 5, 2, 0, 1, 2, 1, 3, 0, 4, 1, 4, 2, 6, 4, 3, 0, 2, 1, 3, 6,\n",
       "       2, 0, 6, 5, 0, 3, 6, 0, 5, 3, 5, 5, 6, 6, 1, 5, 5, 4, 6, 2, 6, 4,\n",
       "       6, 4, 1, 1, 2, 0, 2, 3, 6, 6, 1, 5, 2, 5, 4, 4, 5, 0, 1, 0, 5, 4,\n",
       "       0, 2, 1, 2, 2, 6, 6, 2, 3, 5, 0, 3, 1, 5, 4, 1, 3, 2, 3, 5, 1, 2,\n",
       "       5, 2, 0, 0, 6, 5, 5, 4, 2, 1, 4, 2, 4, 6, 1, 1, 3, 4], dtype=int64)"
      ]
     },
     "execution_count": 27,
     "metadata": {},
     "output_type": "execute_result"
    }
   ],
   "source": [
    "y_predict_classes"
   ]
  },
  {
   "cell_type": "code",
   "execution_count": 28,
   "id": "d6cd1ae8-4bcc-404d-905e-a80f36fd2731",
   "metadata": {
    "tags": []
   },
   "outputs": [],
   "source": [
    "y_true = np.argmax(y_test , axis=1)"
   ]
  },
  {
   "cell_type": "code",
   "execution_count": 29,
   "id": "339b3319-6b22-465f-9667-6a966d21019d",
   "metadata": {
    "tags": []
   },
   "outputs": [
    {
     "data": {
      "text/plain": [
       "array([3, 4, 4, 3, 0, 4, 3, 3, 2, 0, 3, 5, 6, 1, 1, 1, 1, 2, 6, 5, 0, 3,\n",
       "       0, 3, 2, 2, 1, 0, 3, 6, 6, 3, 4, 1, 6, 6, 0, 0, 1, 4, 3, 6, 1, 4,\n",
       "       4, 0, 3, 3, 1, 0, 0, 0, 5, 6, 2, 0, 2, 0, 4, 3, 6, 2, 1, 0, 3, 6,\n",
       "       0, 3, 1, 5, 5, 1, 0, 2, 1, 4, 6, 5, 6, 3, 6, 6, 6, 6, 5, 5, 2, 5,\n",
       "       0, 0, 4, 6, 1, 5, 6, 5, 0, 2, 3, 1, 0, 4, 2, 2, 0, 0, 6, 6, 1, 0,\n",
       "       0, 1, 2, 1, 4, 1, 6, 1, 5, 3, 1, 5, 6, 2, 1, 1, 4, 3, 1, 0, 3, 0,\n",
       "       0, 6, 4, 4, 6, 6, 1, 0, 2, 6, 4, 3, 5, 5, 4, 1, 2, 0, 0, 4, 4, 1,\n",
       "       5, 2, 0, 3, 0, 3, 5, 5, 0, 5, 2, 1, 2, 4, 4, 3, 3, 1, 0, 2, 3, 6,\n",
       "       1, 5, 1, 6, 6, 2, 0, 0, 2, 1, 2, 3, 3, 5, 4, 5, 6, 2, 4, 6, 4, 3,\n",
       "       2, 2, 2, 0, 3, 2, 0, 5, 5, 6, 6, 4, 4, 0, 6, 6, 6, 6, 2, 5, 5, 5,\n",
       "       2, 1, 0, 1, 5, 3, 6, 2, 3, 3, 4, 3, 1, 6, 1, 3, 2, 3, 0, 1, 1, 0,\n",
       "       1, 5, 3, 3, 4, 1, 6, 3, 2, 6, 3, 0, 1, 3, 5, 2, 1, 3, 2, 0, 0, 5,\n",
       "       6, 4, 1, 4, 0, 0, 6, 1, 0, 1, 0, 0, 0, 6, 5, 3, 2, 3, 0, 6, 0, 1,\n",
       "       0, 4, 1, 6, 5, 1, 0, 0, 4, 5, 5, 1, 0, 3, 0, 0, 1, 6, 2, 1, 5, 3,\n",
       "       1, 5, 6, 6, 1, 5, 1, 6, 4, 1, 2, 0, 5, 6, 2, 4, 2, 0, 0, 3, 1, 1,\n",
       "       2, 1, 6, 4, 4, 1, 0, 2, 2, 2, 3, 0, 3, 5, 4, 0, 4, 3, 4, 2, 3, 6,\n",
       "       0, 3, 6, 4, 3, 5, 2, 3, 3, 1, 2, 0, 0, 6, 0, 1, 0, 2, 4, 6, 2, 3,\n",
       "       0, 4, 0, 2, 5, 3, 2, 0, 1, 3, 4, 0, 0, 4, 4, 0, 0, 0, 4, 4, 0, 4,\n",
       "       5, 4, 0, 0, 2, 2, 0, 3, 2, 3, 4, 5, 0, 3, 1, 4, 0, 2, 5, 2, 5, 5,\n",
       "       3, 1, 6, 6, 6, 6, 0, 2, 4, 4, 6, 4, 3, 5, 5, 0, 2, 0, 6, 1, 2, 0,\n",
       "       2, 4, 0, 0, 1, 2, 5, 3, 6, 6, 0, 3, 5, 1, 4, 6, 6, 2, 4, 4, 1, 0,\n",
       "       6, 5, 5, 0, 5, 0, 3, 6, 3, 5, 6, 6, 0, 0, 0, 5, 1, 5, 2, 1, 5, 6,\n",
       "       3, 3, 2, 5, 3, 2, 4, 1, 0, 2, 5, 3, 3, 1, 3, 2, 2, 0, 2, 2, 6, 1,\n",
       "       2, 5, 3, 0, 0, 3, 1, 4, 2, 1, 0, 0, 5, 5, 2, 3, 4, 0, 4, 0, 3, 5,\n",
       "       5, 4, 6, 6, 1, 0, 6, 2, 1, 0, 1, 0, 5, 4, 3, 1, 3, 4, 4, 2, 2, 0,\n",
       "       1, 5, 3, 5, 6, 3, 5, 1, 4, 3, 2, 2, 3, 5, 2, 5, 0, 3, 6, 0, 3, 3,\n",
       "       1, 5, 5, 1, 3, 1, 6, 2, 4, 3, 3, 6, 0, 6, 1, 0, 3, 5, 6, 4, 2, 3,\n",
       "       6, 2, 2, 2, 0, 1, 1, 1, 3, 0, 4, 1, 4, 2, 6, 4, 3, 0, 4, 1, 3, 6,\n",
       "       2, 0, 6, 5, 1, 3, 6, 0, 4, 3, 5, 5, 6, 6, 1, 5, 5, 4, 6, 1, 6, 4,\n",
       "       6, 4, 1, 0, 2, 0, 2, 3, 6, 6, 1, 5, 0, 5, 4, 4, 2, 0, 1, 2, 5, 4,\n",
       "       0, 2, 1, 4, 1, 6, 6, 2, 3, 5, 0, 3, 1, 5, 4, 1, 0, 2, 3, 5, 1, 5,\n",
       "       5, 2, 0, 1, 6, 4, 5, 4, 2, 1, 4, 5, 4, 6, 1, 1, 3, 4], dtype=int64)"
      ]
     },
     "execution_count": 29,
     "metadata": {},
     "output_type": "execute_result"
    }
   ],
   "source": [
    "y_true"
   ]
  },
  {
   "cell_type": "code",
   "execution_count": null,
   "id": "def7b8e2-ebdc-40df-b312-1d078ba22550",
   "metadata": {},
   "outputs": [],
   "source": []
  }
 ],
 "metadata": {
  "kernelspec": {
   "display_name": "Python 3 (ipykernel)",
   "language": "python",
   "name": "python3"
  },
  "language_info": {
   "codemirror_mode": {
    "name": "ipython",
    "version": 3
   },
   "file_extension": ".py",
   "mimetype": "text/x-python",
   "name": "python",
   "nbconvert_exporter": "python",
   "pygments_lexer": "ipython3",
   "version": "3.10.9"
  }
 },
 "nbformat": 4,
 "nbformat_minor": 5
}
